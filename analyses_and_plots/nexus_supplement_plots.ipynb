{
 "cells": [
  {
   "cell_type": "code",
   "execution_count": 1,
   "metadata": {},
   "outputs": [],
   "source": [
    "target = \"cbf1_nexus\""
   ]
  },
  {
   "cell_type": "code",
   "execution_count": 2,
   "metadata": {},
   "outputs": [],
   "source": [
    "import os\n",
    "import json\n",
    "import gzip\n",
    "import math\n",
    "import pyBigWig\n",
    "import numpy as np\n",
    "import pandas as pd\n",
    "import matplotlib\n",
    "import matplotlib.pyplot as plt\n",
    "import seaborn as sns\n",
    "from sklearn.metrics import mean_squared_error\n",
    "from scipy.stats import spearmanr, pearsonr, gaussian_kde"
   ]
  },
  {
   "cell_type": "code",
   "execution_count": 3,
   "metadata": {},
   "outputs": [],
   "source": [
    "chrom_sizes = {'chrI': 230218,\n",
    "               'chrII': 813184,\n",
    "               'chrIII': 316620,\n",
    "               'chrIV': 1531933,\n",
    "               'chrV': 576874,\n",
    "               'chrVI': 270161,\n",
    "               'chrVII': 1090940,\n",
    "               'chrVIII': 562643,\n",
    "               'chrIX': 439888,\n",
    "               'chrX': 745751,\n",
    "               'chrXI': 666816,\n",
    "               'chrXII': 1078177,\n",
    "               'chrXIII': 924431,\n",
    "               'chrXIV': 784333,\n",
    "               'chrXV': 1091291,\n",
    "               'chrXVI': 948066,\n",
    "               'chrM': 85779}"
   ]
  },
  {
   "cell_type": "code",
   "execution_count": 4,
   "metadata": {},
   "outputs": [],
   "source": [
    "bigWigs = (pyBigWig.open(\"/oak/stanford/groups/akundaje/amr1/pho4_final/lite_data/in-vivo/\"+target+\"/basename_prefix.pooled.positive.bigwig\"),\n",
    "           pyBigWig.open(\"/oak/stanford/groups/akundaje/amr1/pho4_final/lite_data/in-vivo/\"+target+\"/basename_prefix.pooled.negative.bigwig\"))\n",
    "bedFile = open(\"/oak/stanford/groups/akundaje/amr1/pho4_final/lite_data/in-vivo/\"+target+\"/100_around_summits.bed\")\n",
    "\n",
    "peak_coords = []\n",
    "for line in bedFile:\n",
    "    chrm,s,e,_ = line.strip().split('\\t')\n",
    "    peak_coords.append((chrm, int(s), int(e)))\n",
    "\n",
    "currentPosCounts = []\n",
    "currentNegCounts = []\n",
    "for chrm, s, e in peak_coords:\n",
    "    if \"_\" in chrm: continue\n",
    "    end = e + 150\n",
    "    start = s - 150\n",
    "    if start < 0 or end >= chrom_sizes[chrm]: continue\n",
    "    posvals = np.array(bigWigs[0].values(chrm, start, end))\n",
    "    where_are_NaNs = np.isnan(posvals)\n",
    "    posvals[where_are_NaNs] = 0.0\n",
    "    currentPosCounts.append(posvals)\n",
    "    negvals = np.array(bigWigs[1].values(chrm, start, end))\n",
    "    where_are_NaNs = np.isnan(negvals)\n",
    "    negvals[where_are_NaNs] = 0.0\n",
    "    currentNegCounts.append(negvals)"
   ]
  },
  {
   "cell_type": "code",
   "execution_count": 5,
   "metadata": {},
   "outputs": [
    {
     "data": {
      "text/plain": [
       "<Figure size 432x288 with 0 Axes>"
      ]
     },
     "metadata": {},
     "output_type": "display_data"
    }
   ],
   "source": [
    "font = {'weight' : 'bold', 'size'   : 14}\n",
    "plt.figure()\n",
    "matplotlib.rc('font', **font)\n",
    "plt.plot(np.mean(currentPosCounts, axis=0))\n",
    "plt.plot(np.mean(-np.array(currentNegCounts), axis=0))\n",
    "plt.savefig('comparison_figs/'+target+'/avg_profile.png', dpi=300, format='png')\n",
    "plt.clf()"
   ]
  },
  {
   "cell_type": "code",
   "execution_count": 6,
   "metadata": {},
   "outputs": [],
   "source": [
    "currentPosCounts = np.array(currentPosCounts)\n",
    "row_sums = currentPosCounts.sum(axis=1)\n",
    "normalizedPosCounts = currentPosCounts / row_sums[:, np.newaxis]\n",
    "normalizedPosCounts = normalizedPosCounts\n",
    "\n",
    "currentNegCounts = np.array(currentNegCounts)\n",
    "row_sums = currentNegCounts.sum(axis=1)\n",
    "normalizedNegCounts = currentNegCounts / row_sums[:, np.newaxis]\n",
    "normalizedNegCounts = -1 * normalizedNegCounts"
   ]
  },
  {
   "cell_type": "code",
   "execution_count": 7,
   "metadata": {},
   "outputs": [],
   "source": [
    "top_n = 100\n",
    "top_regions = np.argsort(currentPosCounts.sum(axis=1)+currentNegCounts.sum(axis=1))[:-top_n-1:-1]"
   ]
  },
  {
   "cell_type": "code",
   "execution_count": 8,
   "metadata": {},
   "outputs": [
    {
     "data": {
      "text/plain": [
       "<Figure size 432x288 with 0 Axes>"
      ]
     },
     "metadata": {},
     "output_type": "display_data"
    }
   ],
   "source": [
    "combinedNormalizedCounts = []\n",
    "for idx in top_regions:\n",
    "    combinedNormalizedCounts.append(normalizedPosCounts[idx][100:300])\n",
    "    combinedNormalizedCounts.append(normalizedNegCounts[idx][100:300])\n",
    "\n",
    "font = {'weight' : 'bold', 'size'   : 14}\n",
    "plt.figure()\n",
    "matplotlib.rc('font', **font)\n",
    "sns.heatmap(combinedNormalizedCounts, cmap = \"RdBu_r\", center = 0, vmin=-0.025, vmax =0.025)\n",
    "plt.tick_params(\n",
    "    axis='both',       # changes apply to the x-axis\n",
    "    which='both',      # both major and minor ticks are affected\n",
    "    bottom=False,      # ticks along the bottom edge are off\n",
    "    top=False,         # ticks along the top edge are off\n",
    "    left=False,\n",
    "    labelleft=False,\n",
    "    right=False,\n",
    "    labelright=False,\n",
    "    labelbottom=False) # labels along the bottom edge are off\n",
    "plt.savefig('comparison_figs/'+target+'/top_heatmap.png', dpi=300, format='png')\n",
    "plt.clf()"
   ]
  }
 ],
 "metadata": {
  "kernelspec": {
   "display_name": "Python [conda env:basepair]",
   "language": "python",
   "name": "conda-env-basepair-py"
  },
  "language_info": {
   "codemirror_mode": {
    "name": "ipython",
    "version": 3
   },
   "file_extension": ".py",
   "mimetype": "text/x-python",
   "name": "python",
   "nbconvert_exporter": "python",
   "pygments_lexer": "ipython3",
   "version": "3.6.8"
  }
 },
 "nbformat": 4,
 "nbformat_minor": 4
}

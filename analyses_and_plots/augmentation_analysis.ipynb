{
 "cells": [
  {
   "cell_type": "markdown",
   "metadata": {},
   "source": [
    "# Augmentation analysis"
   ]
  },
  {
   "cell_type": "markdown",
   "metadata": {},
   "source": [
    "## repeats lib1 overall results (all methods comparison)"
   ]
  },
  {
   "cell_type": "code",
   "execution_count": 1,
   "metadata": {},
   "outputs": [],
   "source": [
    "target = \"pho4_nxs_rpts_lib1\""
   ]
  },
  {
   "cell_type": "code",
   "execution_count": 2,
   "metadata": {},
   "outputs": [
    {
     "name": "stderr",
     "output_type": "stream",
     "text": [
      "Using TensorFlow backend.\n",
      "/users/amr1/miniconda3/envs/basepair/lib/python3.6/site-packages/tensorflow/python/framework/dtypes.py:516: FutureWarning: Passing (type, 1) or '1type' as a synonym of type is deprecated; in a future version of numpy, it will be understood as (type, (1,)) / '(1,)type'.\n",
      "  _np_qint8 = np.dtype([(\"qint8\", np.int8, 1)])\n",
      "/users/amr1/miniconda3/envs/basepair/lib/python3.6/site-packages/tensorflow/python/framework/dtypes.py:517: FutureWarning: Passing (type, 1) or '1type' as a synonym of type is deprecated; in a future version of numpy, it will be understood as (type, (1,)) / '(1,)type'.\n",
      "  _np_quint8 = np.dtype([(\"quint8\", np.uint8, 1)])\n",
      "/users/amr1/miniconda3/envs/basepair/lib/python3.6/site-packages/tensorflow/python/framework/dtypes.py:518: FutureWarning: Passing (type, 1) or '1type' as a synonym of type is deprecated; in a future version of numpy, it will be understood as (type, (1,)) / '(1,)type'.\n",
      "  _np_qint16 = np.dtype([(\"qint16\", np.int16, 1)])\n",
      "/users/amr1/miniconda3/envs/basepair/lib/python3.6/site-packages/tensorflow/python/framework/dtypes.py:519: FutureWarning: Passing (type, 1) or '1type' as a synonym of type is deprecated; in a future version of numpy, it will be understood as (type, (1,)) / '(1,)type'.\n",
      "  _np_quint16 = np.dtype([(\"quint16\", np.uint16, 1)])\n",
      "/users/amr1/miniconda3/envs/basepair/lib/python3.6/site-packages/tensorflow/python/framework/dtypes.py:520: FutureWarning: Passing (type, 1) or '1type' as a synonym of type is deprecated; in a future version of numpy, it will be understood as (type, (1,)) / '(1,)type'.\n",
      "  _np_qint32 = np.dtype([(\"qint32\", np.int32, 1)])\n",
      "/users/amr1/miniconda3/envs/basepair/lib/python3.6/site-packages/tensorflow/python/framework/dtypes.py:525: FutureWarning: Passing (type, 1) or '1type' as a synonym of type is deprecated; in a future version of numpy, it will be understood as (type, (1,)) / '(1,)type'.\n",
      "  np_resource = np.dtype([(\"resource\", np.ubyte, 1)])\n",
      "/users/amr1/miniconda3/envs/basepair/lib/python3.6/site-packages/tensorboard/compat/tensorflow_stub/dtypes.py:541: FutureWarning: Passing (type, 1) or '1type' as a synonym of type is deprecated; in a future version of numpy, it will be understood as (type, (1,)) / '(1,)type'.\n",
      "  _np_qint8 = np.dtype([(\"qint8\", np.int8, 1)])\n",
      "/users/amr1/miniconda3/envs/basepair/lib/python3.6/site-packages/tensorboard/compat/tensorflow_stub/dtypes.py:542: FutureWarning: Passing (type, 1) or '1type' as a synonym of type is deprecated; in a future version of numpy, it will be understood as (type, (1,)) / '(1,)type'.\n",
      "  _np_quint8 = np.dtype([(\"quint8\", np.uint8, 1)])\n",
      "/users/amr1/miniconda3/envs/basepair/lib/python3.6/site-packages/tensorboard/compat/tensorflow_stub/dtypes.py:543: FutureWarning: Passing (type, 1) or '1type' as a synonym of type is deprecated; in a future version of numpy, it will be understood as (type, (1,)) / '(1,)type'.\n",
      "  _np_qint16 = np.dtype([(\"qint16\", np.int16, 1)])\n",
      "/users/amr1/miniconda3/envs/basepair/lib/python3.6/site-packages/tensorboard/compat/tensorflow_stub/dtypes.py:544: FutureWarning: Passing (type, 1) or '1type' as a synonym of type is deprecated; in a future version of numpy, it will be understood as (type, (1,)) / '(1,)type'.\n",
      "  _np_quint16 = np.dtype([(\"quint16\", np.uint16, 1)])\n",
      "/users/amr1/miniconda3/envs/basepair/lib/python3.6/site-packages/tensorboard/compat/tensorflow_stub/dtypes.py:545: FutureWarning: Passing (type, 1) or '1type' as a synonym of type is deprecated; in a future version of numpy, it will be understood as (type, (1,)) / '(1,)type'.\n",
      "  _np_qint32 = np.dtype([(\"qint32\", np.int32, 1)])\n",
      "/users/amr1/miniconda3/envs/basepair/lib/python3.6/site-packages/tensorboard/compat/tensorflow_stub/dtypes.py:550: FutureWarning: Passing (type, 1) or '1type' as a synonym of type is deprecated; in a future version of numpy, it will be understood as (type, (1,)) / '(1,)type'.\n",
      "  np_resource = np.dtype([(\"resource\", np.ubyte, 1)])\n",
      "TF-MoDISco is using the TensorFlow backend.\n"
     ]
    }
   ],
   "source": [
    "import os\n",
    "import re\n",
    "import json\n",
    "import gzip\n",
    "import codecs\n",
    "import math\n",
    "from math import log, ceil\n",
    "import keras_genomics\n",
    "from keras_genomics.layers.convolutional import RevCompConv1D\n",
    "import keras\n",
    "import keras.layers as kl\n",
    "from keras import backend as K\n",
    "import tensorflow as tf\n",
    "import tensorflow_probability as tfp\n",
    "import numpy as np\n",
    "import modisco\n",
    "import modisco.tfmodisco_workflow.workflow\n",
    "from modisco.tfmodisco_workflow import workflow\n",
    "import h5py\n",
    "import pandas as pd\n",
    "import modisco.util\n",
    "from collections import Counter\n",
    "from seqdataloader.batchproducers import coordbased\n",
    "from seqdataloader.batchproducers.coordbased import coordstovals\n",
    "from seqdataloader.batchproducers.coordbased import coordbatchproducers\n",
    "from seqdataloader.batchproducers.coordbased import coordbatchtransformers\n",
    "from keras.models import load_model\n",
    "from keras.utils import CustomObjectScope\n",
    "from deeplift.dinuc_shuffle import dinuc_shuffle\n",
    "from modisco.visualization import viz_sequence\n",
    "import modisco.affinitymat.core\n",
    "import modisco.cluster.phenograph.core\n",
    "import modisco.cluster.phenograph.cluster\n",
    "import modisco.cluster.core\n",
    "import modisco.aggregator\n",
    "import matplotlib\n",
    "import matplotlib.pyplot as plt\n",
    "from numpy.polynomial.polynomial import polyfit\n",
    "from sklearn.linear_model import LinearRegression as LR\n",
    "from sklearn.metrics import mean_squared_error\n",
    "from scipy.stats import spearmanr, pearsonr, gaussian_kde\n",
    "font = {'weight' : 'bold', 'size'   : 14}\n",
    "num_samples = 100\n",
    "%matplotlib inline\n",
    "\n",
    "os.environ[\"CUDA_VISIBLE_DEVICES\"]=\"0,2\""
   ]
  },
  {
   "cell_type": "code",
   "execution_count": 3,
   "metadata": {},
   "outputs": [],
   "source": [
    "if not os.path.exists(\"comparison_figs/\"+target):\n",
    "    os.makedirs(\"comparison_figs/\"+target)\n",
    "if not os.path.exists(\"comparison_figs/\"+target+\"/de_novo\"):\n",
    "    os.makedirs(\"comparison_figs/\"+target+\"/de_novo\")\n",
    "if not os.path.exists(\"comparison_figs/\"+target+\"/calibrated\"):\n",
    "    os.makedirs(\"comparison_figs/\"+target+\"/calibrated\")\n",
    "\n",
    "class CalibratorFactory(object):\n",
    "    def __call__(self, valid_preacts, valid_labels):\n",
    "        raise NotImplementedError()\n",
    "\n",
    "class LinearRegression(CalibratorFactory):\n",
    "    def __init__(self, verbose=True):\n",
    "        self.verbose = verbose \n",
    "\n",
    "    def __call__(self, valid_preacts, valid_labels):\n",
    "        lr = LR().fit(valid_preacts.reshape(-1, 1), valid_labels)\n",
    "    \n",
    "        def calibration_func(preact):\n",
    "            return lr.predict(preact.reshape(-1, 1))\n",
    "\n",
    "        return calibration_func\n",
    "\n",
    "def plot_and_save(xvals, yvals, key, xlabel, ylabel, path, same_scale=False):\n",
    "    xy = np.vstack([xvals,yvals])\n",
    "    z = gaussian_kde(xy)(xy)\n",
    "    plt.figure()\n",
    "    matplotlib.rc('font', **font)\n",
    "    if same_scale:\n",
    "        min_lim = min(np.min(xvals), np.min(yvals))\n",
    "        max_lim = max(np.max(xvals), np.max(yvals))\n",
    "        plt.xlim(min_lim-0.5, max_lim+0.5)\n",
    "        plt.ylim(min_lim-0.5, max_lim+0.5)\n",
    "        plt.gca().set_aspect('equal', adjustable='box')\n",
    "    metadata = {}\n",
    "    metadata[\"key\"] = key\n",
    "    metadata[\"x-axis\"] = xlabel\n",
    "    metadata[\"y-axis\"] = ylabel\n",
    "    metadata[\"Number of points\"] = len(xvals)\n",
    "    metadata[\"spearman\"] = spearmanr(xvals, yvals)[0]\n",
    "    metadata[\"pearson\"] = pearsonr(xvals, yvals)[0]\n",
    "    metadata[\"rmse\"] = math.sqrt(mean_squared_error(xvals, yvals))\n",
    "    with open(path+key+'_metadata.json', 'w') as fp: json.dump(metadata, fp)\n",
    "    plt.scatter(xvals, yvals,  c=z, edgecolor='', alpha=0.9)\n",
    "    if same_scale:\n",
    "        x = np.linspace(min_lim-0.5, max_lim+0.5, num=len(yvals))\n",
    "        b, m = polyfit(xvals, yvals, 1)\n",
    "        plt.plot(x, b + m * x, color=\"black\")\n",
    "    plt.xlabel(xlabel)\n",
    "    plt.ylabel(ylabel)\n",
    "    plt.savefig(path+key+'.png', dpi=300, format='png')\n",
    "    plt.clf()"
   ]
  },
  {
   "cell_type": "code",
   "execution_count": 4,
   "metadata": {},
   "outputs": [
    {
     "name": "stdout",
     "output_type": "stream",
     "text": [
      "7 31\n"
     ]
    }
   ],
   "source": [
    "# reading from allddGs both seqs and vals\n",
    "df1 = pd.read_csv('repeats_evaluations/library1_allddGs_normalized.csv', sep = ',')\n",
    "lib1_ddGs = list(df1['Pho4_ddG_mean'])\n",
    "lib1_seqs = list(df1['Sequence'])\n",
    "lib1_names = list(df1['Oligo_Identity'])\n",
    "\n",
    "seqs = []\n",
    "names = []\n",
    "all_xvals = []\n",
    "seqToLabel = {}\n",
    "for cid, seq in enumerate(lib1_seqs):\n",
    "    if 'Y' in seq \\\n",
    "    or 'R' in seq \\\n",
    "    or 'K' in seq \\\n",
    "    or 'S' in seq: continue\n",
    "    seqs.append(seq)\n",
    "    names.append(lib1_names[cid])\n",
    "    all_xvals.append(lib1_ddGs[cid])\n",
    "    seqToLabel[seq] = lib1_ddGs[cid]\n",
    "\n",
    "num_samples = min(1000, ceil(0.2*len(seqs)))\n",
    "print(num_samples, len(seqs))\n",
    "calibration_samples = np.random.choice(seqs, num_samples, replace=False)\n",
    "sample_labels = []\n",
    "for seq in calibration_samples:\n",
    "    sample_labels.append(seqToLabel[seq])\n",
    "sample_labels = np.array(sample_labels)"
   ]
  },
  {
   "cell_type": "code",
   "execution_count": 5,
   "metadata": {},
   "outputs": [],
   "source": [
    "fastapath = \"/users/amr1/pho4/data/genome/saccer/sacCer3.genome.fa\"\n",
    "GenomeDict={}\n",
    "sequence=''\n",
    "inputdatafile = open(fastapath)\n",
    "for line in inputdatafile:\n",
    "    if line[0]=='>':\n",
    "        if sequence != '':\n",
    "            GenomeDict[chrm] = ''.join(sequence)\n",
    "        chrm = line.strip().split('>')[1]\n",
    "        sequence=[]\n",
    "        Keep=False\n",
    "        continue\n",
    "    else:\n",
    "        sequence.append(line.strip())\n",
    "GenomeDict[chrm] = ''.join(sequence)\n",
    "\n",
    "peaks_dir = \"/oak/stanford/groups/akundaje/amr1/pho4_final/lite_data/in-vivo/\"\n",
    "seq_len = 546\n",
    "out_pred_len = 200\n",
    "seq_peaks = []\n",
    "with gzip.open(peaks_dir+'pho4_nexus/test_1k_around_summits.bed.gz', 'rt') as inp:\n",
    "    for line in inp:\n",
    "        chrm = line.strip().split('\\t')[0]\n",
    "        center = int((int(line.strip().split('\\t')[1])+int(line.strip().split('\\t')[2]))/2)\n",
    "        start = center - int(seq_len/2)\n",
    "        end = center + int(seq_len/2)\n",
    "        candidate_seq = GenomeDict[chrm][start:end].upper()\n",
    "        if len(candidate_seq) == seq_len: seq_peaks.append(candidate_seq)\n",
    "    \n",
    "ltrdict = {\n",
    "           'a':[1,0,0,0],'c':[0,1,0,0],'g':[0,0,1,0],'t':[0,0,0,1],\n",
    "           'n':[0,0,0,0],'A':[1,0,0,0],'C':[0,1,0,0],'G':[0,0,1,0],\n",
    "           'T':[0,0,0,1],'N':[0,0,0,0]}\n",
    "def getOneHot(ISM_sequences):\n",
    "  # takes in list of sequences\n",
    "    one_hot_seqs = []\n",
    "    for seq in ISM_sequences:\n",
    "        one_hot = []\n",
    "        for i in range(len(seq)):\n",
    "            one_hot.append(ltrdict[seq[i:i+1]])\n",
    "        one_hot_seqs.append(one_hot)\n",
    "    return np.array(one_hot_seqs)\n",
    "\n",
    "def fill_into_center(seq, insert):\n",
    "    flank = int((len(seq)-len(insert))/2.0)\n",
    "    new_seq = seq[:flank]+insert+seq[flank+len(insert):]\n",
    "    return new_seq\n",
    "\n",
    "def multinomial_nll(true_counts, logits):\n",
    "    \"\"\"Compute the multinomial negative log-likelihood\n",
    "    Args:\n",
    "      true_counts: observed count values\n",
    "      logits: predicted logit values\n",
    "    \"\"\"\n",
    "    counts_per_example = tf.reduce_sum(true_counts, axis=-1)\n",
    "    dist = tfp.distributions.Multinomial(total_count=counts_per_example,\n",
    "                                         logits=logits)\n",
    "    return (-tf.reduce_sum(dist.log_prob(true_counts)) / \n",
    "            tf.to_float(tf.shape(true_counts)[0]))\n",
    "\n",
    "#from https://github.com/kundajelab/basepair/blob/cda0875571066343cdf90aed031f7c51714d991a/basepair/losses.py#L87\n",
    "class MultichannelMultinomialNLL(object):\n",
    "    def __init__(self, n):\n",
    "        self.__name__ = \"MultichannelMultinomialNLL\"\n",
    "        self.n = n\n",
    "\n",
    "    def __call__(self, true_counts, logits):\n",
    "        for i in range(self.n):\n",
    "            loss = multinomial_nll(true_counts[..., i], logits[..., i])\n",
    "            if i == 0:\n",
    "                total = loss\n",
    "            else:\n",
    "                total += loss\n",
    "        return total\n",
    "\n",
    "    def get_config(self):\n",
    "        return {\"n\": self.n}\n",
    "\n",
    "indices = np.random.choice(len(seq_peaks), num_samples, replace=False) "
   ]
  },
  {
   "cell_type": "code",
   "execution_count": 6,
   "metadata": {},
   "outputs": [
    {
     "name": "stdout",
     "output_type": "stream",
     "text": [
      "WARNING:tensorflow:From /users/amr1/miniconda3/envs/basepair/lib/python3.6/site-packages/keras/backend/tensorflow_backend.py:517: The name tf.placeholder is deprecated. Please use tf.compat.v1.placeholder instead.\n",
      "\n",
      "WARNING:tensorflow:From /users/amr1/miniconda3/envs/basepair/lib/python3.6/site-packages/keras/backend/tensorflow_backend.py:4138: The name tf.random_uniform is deprecated. Please use tf.random.uniform instead.\n",
      "\n",
      "WARNING:tensorflow:From /users/amr1/miniconda3/envs/basepair/lib/python3.6/site-packages/keras/backend/tensorflow_backend.py:174: The name tf.get_default_session is deprecated. Please use tf.compat.v1.get_default_session instead.\n",
      "\n",
      "WARNING:tensorflow:From /users/amr1/miniconda3/envs/basepair/lib/python3.6/site-packages/keras/backend/tensorflow_backend.py:181: The name tf.ConfigProto is deprecated. Please use tf.compat.v1.ConfigProto instead.\n",
      "\n",
      "WARNING:tensorflow:From /users/amr1/miniconda3/envs/basepair/lib/python3.6/site-packages/keras/backend/tensorflow_backend.py:186: The name tf.Session is deprecated. Please use tf.compat.v1.Session instead.\n",
      "\n",
      "WARNING:tensorflow:From /users/amr1/miniconda3/envs/basepair/lib/python3.6/site-packages/keras/optimizers.py:790: The name tf.train.Optimizer is deprecated. Please use tf.compat.v1.train.Optimizer instead.\n",
      "\n",
      "WARNING:tensorflow:From <ipython-input-5-ad6690831724>:59: to_float (from tensorflow.python.ops.math_ops) is deprecated and will be removed in a future version.\n",
      "Instructions for updating:\n",
      "Use `tf.cast` instead.\n"
     ]
    }
   ],
   "source": [
    "# Affinity Distill\n",
    "if not os.path.exists(\"comparison_figs/\"+target+\"/de_novo/affinity_distill\"):\n",
    "    os.makedirs(\"comparison_figs/\"+target+\"/de_novo/affinity_distill\")\n",
    "if not os.path.exists(\"comparison_figs/\"+target+\"/calibrated/affinity_distill\"):\n",
    "    os.makedirs(\"comparison_figs/\"+target+\"/calibrated/affinity_distill\")\n",
    "if not os.path.exists(\"comparison_figs/\"+target+\"/de_novo/affinity_distill_augmented\"):\n",
    "    os.makedirs(\"comparison_figs/\"+target+\"/de_novo/affinity_distill_augmented\")\n",
    "if not os.path.exists(\"comparison_figs/\"+target+\"/calibrated/affinity_distill_augmented\"):\n",
    "    os.makedirs(\"comparison_figs/\"+target+\"/calibrated/affinity_distill_augmented\")\n",
    "\n",
    "with CustomObjectScope({'MultichannelMultinomialNLL': MultichannelMultinomialNLL,'RevCompConv1D': RevCompConv1D}):\n",
    "    model = load_model(\"/oak/stanford/groups/akundaje/amr1/pho4_final/models/example_models/pho4_nexus.h5\")\n",
    "seqToDeltaLogCounts = {}\n",
    "for seq in seqs:\n",
    "    pre_seqs = []\n",
    "    post_seqs = []\n",
    "    for idx in indices:\n",
    "        pre_seq = dinuc_shuffle(seq_peaks[idx])\n",
    "        post_seq = fill_into_center(pre_seq, seq)\n",
    "        pre_seqs.append(pre_seq)\n",
    "        post_seqs.append(post_seq)\n",
    "    pre = model.predict(getOneHot(pre_seqs))\n",
    "    post = model.predict(getOneHot(post_seqs))\n",
    "    seqToDeltaLogCounts[seq] = np.mean(post[0]-pre[0])\n",
    "del model\n",
    "K.clear_session()\n",
    "\n",
    "with CustomObjectScope({'MultichannelMultinomialNLL': MultichannelMultinomialNLL,'RevCompConv1D': RevCompConv1D}):\n",
    "    model = load_model(\"/users/amr1/pho4/repeats_evaluations/pho4_nexus/pho4_nexus.h5\")\n",
    "seqToDeltaLogCounts_augmented = {}\n",
    "for seq in seqs:\n",
    "    pre_seqs = []\n",
    "    post_seqs = []\n",
    "    for idx in indices:\n",
    "        pre_seq = dinuc_shuffle(seq_peaks[idx])\n",
    "        post_seq = fill_into_center(pre_seq, seq)\n",
    "        pre_seqs.append(pre_seq)\n",
    "        post_seqs.append(post_seq)\n",
    "    pre = model.predict(getOneHot(pre_seqs))\n",
    "    post = model.predict(getOneHot(post_seqs))\n",
    "    seqToDeltaLogCounts_augmented[seq] = np.mean(post[0]-pre[0])\n",
    "del model\n",
    "K.clear_session()"
   ]
  },
  {
   "cell_type": "code",
   "execution_count": 7,
   "metadata": {},
   "outputs": [
    {
     "data": {
      "text/plain": [
       "<Figure size 432x288 with 0 Axes>"
      ]
     },
     "metadata": {},
     "output_type": "display_data"
    },
    {
     "data": {
      "text/plain": [
       "<Figure size 432x288 with 0 Axes>"
      ]
     },
     "metadata": {},
     "output_type": "display_data"
    }
   ],
   "source": [
    "yvals = []\n",
    "for seq in seqs:\n",
    "    yvals.append(float(seqToDeltaLogCounts[seq]))\n",
    "yvals = np.array(yvals)\n",
    "plot_and_save(all_xvals, yvals, \"affinity_distill\",\n",
    "              xlabel=\"True Log Signal Intensity\",\n",
    "              ylabel=\"Pred. Score\",\n",
    "              path='comparison_figs/'+target+'/de_novo/affinity_distill/')\n",
    "yvals = []\n",
    "for seq in seqs:\n",
    "    yvals.append(float(seqToDeltaLogCounts_augmented[seq]))\n",
    "yvals = np.array(yvals)\n",
    "plot_and_save(all_xvals, yvals, \"affinity_distill_augmented\",\n",
    "              xlabel=\"True Log Signal Intensity\",\n",
    "              ylabel=\"Pred. Score\",\n",
    "              path='comparison_figs/'+target+'/de_novo/affinity_distill_augmented/')"
   ]
  },
  {
   "cell_type": "code",
   "execution_count": 8,
   "metadata": {},
   "outputs": [
    {
     "data": {
      "text/plain": [
       "<Figure size 432x288 with 0 Axes>"
      ]
     },
     "metadata": {},
     "output_type": "display_data"
    },
    {
     "data": {
      "text/plain": [
       "<Figure size 432x288 with 0 Axes>"
      ]
     },
     "metadata": {},
     "output_type": "display_data"
    },
    {
     "data": {
      "text/plain": [
       "<Figure size 432x288 with 0 Axes>"
      ]
     },
     "metadata": {},
     "output_type": "display_data"
    },
    {
     "data": {
      "text/plain": [
       "<Figure size 432x288 with 0 Axes>"
      ]
     },
     "metadata": {},
     "output_type": "display_data"
    }
   ],
   "source": [
    "sample_preds = []\n",
    "for seq in calibration_samples:\n",
    "    sample_preds.append(float(seqToDeltaLogCounts[seq]))\n",
    "sample_preds = np.array(sample_preds)\n",
    "pre_yvals = []\n",
    "for seq in seqs:\n",
    "    pre_yvals.append(float(seqToDeltaLogCounts[seq]))\n",
    "pre_yvals = np.array(pre_yvals)\n",
    "lr1 = LinearRegression()\n",
    "calibration_func1 = lr1(sample_preds, sample_labels)\n",
    "yvals = calibration_func1(pre_yvals)\n",
    "plot_and_save(all_xvals, yvals, \"affinity_distill\",\n",
    "              xlabel=\"True Log Signal Intensity\",\n",
    "              ylabel=\"Pred. Log Signal Intensity\",\n",
    "              path='comparison_figs/'+target+'/calibrated/affinity_distill/',\n",
    "              same_scale=True)\n",
    "residuals = all_xvals - yvals  # residuals are y - yhat\n",
    "plot_and_save(yvals, residuals, \"residuals\",\n",
    "              xlabel=\"Predictions\",\n",
    "              ylabel=\"Residuals\",\n",
    "              path='comparison_figs/'+target+'/calibrated/affinity_distill/')\n",
    "\n",
    "sample_preds = []\n",
    "for seq in calibration_samples:\n",
    "    sample_preds.append(float(seqToDeltaLogCounts_augmented[seq]))\n",
    "sample_preds = np.array(sample_preds)\n",
    "pre_yvals = []\n",
    "for seq in seqs:\n",
    "    pre_yvals.append(float(seqToDeltaLogCounts_augmented[seq]))\n",
    "pre_yvals = np.array(pre_yvals)\n",
    "lr1 = LinearRegression()\n",
    "calibration_func1 = lr1(sample_preds, sample_labels)\n",
    "yvals = calibration_func1(pre_yvals)\n",
    "plot_and_save(all_xvals, yvals, \"affinity_distill_augmented\",\n",
    "              xlabel=\"True Log Signal Intensity\",\n",
    "              ylabel=\"Pred. Log Signal Intensity\",\n",
    "              path='comparison_figs/'+target+'/calibrated/affinity_distill_augmented/',\n",
    "              same_scale=True)\n",
    "residuals = all_xvals - yvals  # residuals are y - yhat\n",
    "plot_and_save(yvals, residuals, \"residuals\",\n",
    "              xlabel=\"Predictions\",\n",
    "              ylabel=\"Residuals\",\n",
    "              path='comparison_figs/'+target+'/calibrated/affinity_distill_augmented/')"
   ]
  },
  {
   "cell_type": "code",
   "execution_count": 9,
   "metadata": {},
   "outputs": [
    {
     "name": "stdout",
     "output_type": "stream",
     "text": [
      "(1600, 546, 4) (1600, 546, 4) (1600, 546, 4)\n"
     ]
    },
    {
     "name": "stderr",
     "output_type": "stream",
     "text": [
      "/users/amr1/miniconda3/envs/basepair/lib/python3.6/site-packages/ipykernel/__main__.py:27: RuntimeWarning: More than 20 figures have been opened. Figures created through the pyplot interface (`matplotlib.pyplot.figure`) are retained until explicitly closed and may consume too much memory. (To control this warning, see the rcParam `figure.max_open_warning`).\n",
      "/users/amr1/miniconda3/envs/basepair/lib/python3.6/site-packages/ipykernel/__main__.py:27: RuntimeWarning: More than 20 figures have been opened. Figures created through the pyplot interface (`matplotlib.pyplot.figure`) are retained until explicitly closed and may consume too much memory. (To control this warning, see the rcParam `figure.max_open_warning`).\n",
      "/users/amr1/miniconda3/envs/basepair/lib/python3.6/site-packages/ipykernel/__main__.py:27: RuntimeWarning: More than 20 figures have been opened. Figures created through the pyplot interface (`matplotlib.pyplot.figure`) are retained until explicitly closed and may consume too much memory. (To control this warning, see the rcParam `figure.max_open_warning`).\n",
      "/users/amr1/miniconda3/envs/basepair/lib/python3.6/site-packages/ipykernel/__main__.py:27: RuntimeWarning: More than 20 figures have been opened. Figures created through the pyplot interface (`matplotlib.pyplot.figure`) are retained until explicitly closed and may consume too much memory. (To control this warning, see the rcParam `figure.max_open_warning`).\n",
      "/users/amr1/miniconda3/envs/basepair/lib/python3.6/site-packages/ipykernel/__main__.py:27: RuntimeWarning: More than 20 figures have been opened. Figures created through the pyplot interface (`matplotlib.pyplot.figure`) are retained until explicitly closed and may consume too much memory. (To control this warning, see the rcParam `figure.max_open_warning`).\n",
      "/users/amr1/miniconda3/envs/basepair/lib/python3.6/site-packages/ipykernel/__main__.py:27: RuntimeWarning: More than 20 figures have been opened. Figures created through the pyplot interface (`matplotlib.pyplot.figure`) are retained until explicitly closed and may consume too much memory. (To control this warning, see the rcParam `figure.max_open_warning`).\n",
      "/users/amr1/miniconda3/envs/basepair/lib/python3.6/site-packages/ipykernel/__main__.py:27: RuntimeWarning: More than 20 figures have been opened. Figures created through the pyplot interface (`matplotlib.pyplot.figure`) are retained until explicitly closed and may consume too much memory. (To control this warning, see the rcParam `figure.max_open_warning`).\n",
      "/users/amr1/miniconda3/envs/basepair/lib/python3.6/site-packages/ipykernel/__main__.py:27: RuntimeWarning: More than 20 figures have been opened. Figures created through the pyplot interface (`matplotlib.pyplot.figure`) are retained until explicitly closed and may consume too much memory. (To control this warning, see the rcParam `figure.max_open_warning`).\n",
      "/users/amr1/miniconda3/envs/basepair/lib/python3.6/site-packages/ipykernel/__main__.py:27: RuntimeWarning: More than 20 figures have been opened. Figures created through the pyplot interface (`matplotlib.pyplot.figure`) are retained until explicitly closed and may consume too much memory. (To control this warning, see the rcParam `figure.max_open_warning`).\n",
      "/users/amr1/miniconda3/envs/basepair/lib/python3.6/site-packages/ipykernel/__main__.py:27: RuntimeWarning: More than 20 figures have been opened. Figures created through the pyplot interface (`matplotlib.pyplot.figure`) are retained until explicitly closed and may consume too much memory. (To control this warning, see the rcParam `figure.max_open_warning`).\n",
      "/users/amr1/miniconda3/envs/basepair/lib/python3.6/site-packages/ipykernel/__main__.py:27: RuntimeWarning: More than 20 figures have been opened. Figures created through the pyplot interface (`matplotlib.pyplot.figure`) are retained until explicitly closed and may consume too much memory. (To control this warning, see the rcParam `figure.max_open_warning`).\n",
      "/users/amr1/miniconda3/envs/basepair/lib/python3.6/site-packages/ipykernel/__main__.py:27: RuntimeWarning: More than 20 figures have been opened. Figures created through the pyplot interface (`matplotlib.pyplot.figure`) are retained until explicitly closed and may consume too much memory. (To control this warning, see the rcParam `figure.max_open_warning`).\n",
      "/users/amr1/miniconda3/envs/basepair/lib/python3.6/site-packages/ipykernel/__main__.py:27: RuntimeWarning: More than 20 figures have been opened. Figures created through the pyplot interface (`matplotlib.pyplot.figure`) are retained until explicitly closed and may consume too much memory. (To control this warning, see the rcParam `figure.max_open_warning`).\n",
      "/users/amr1/miniconda3/envs/basepair/lib/python3.6/site-packages/ipykernel/__main__.py:27: RuntimeWarning: More than 20 figures have been opened. Figures created through the pyplot interface (`matplotlib.pyplot.figure`) are retained until explicitly closed and may consume too much memory. (To control this warning, see the rcParam `figure.max_open_warning`).\n",
      "/users/amr1/miniconda3/envs/basepair/lib/python3.6/site-packages/ipykernel/__main__.py:27: RuntimeWarning: More than 20 figures have been opened. Figures created through the pyplot interface (`matplotlib.pyplot.figure`) are retained until explicitly closed and may consume too much memory. (To control this warning, see the rcParam `figure.max_open_warning`).\n",
      "/users/amr1/miniconda3/envs/basepair/lib/python3.6/site-packages/ipykernel/__main__.py:27: RuntimeWarning: More than 20 figures have been opened. Figures created through the pyplot interface (`matplotlib.pyplot.figure`) are retained until explicitly closed and may consume too much memory. (To control this warning, see the rcParam `figure.max_open_warning`).\n",
      "/users/amr1/miniconda3/envs/basepair/lib/python3.6/site-packages/ipykernel/__main__.py:27: RuntimeWarning: More than 20 figures have been opened. Figures created through the pyplot interface (`matplotlib.pyplot.figure`) are retained until explicitly closed and may consume too much memory. (To control this warning, see the rcParam `figure.max_open_warning`).\n",
      "/users/amr1/miniconda3/envs/basepair/lib/python3.6/site-packages/ipykernel/__main__.py:27: RuntimeWarning: More than 20 figures have been opened. Figures created through the pyplot interface (`matplotlib.pyplot.figure`) are retained until explicitly closed and may consume too much memory. (To control this warning, see the rcParam `figure.max_open_warning`).\n",
      "/users/amr1/miniconda3/envs/basepair/lib/python3.6/site-packages/ipykernel/__main__.py:27: RuntimeWarning: More than 20 figures have been opened. Figures created through the pyplot interface (`matplotlib.pyplot.figure`) are retained until explicitly closed and may consume too much memory. (To control this warning, see the rcParam `figure.max_open_warning`).\n",
      "/users/amr1/miniconda3/envs/basepair/lib/python3.6/site-packages/ipykernel/__main__.py:27: RuntimeWarning: More than 20 figures have been opened. Figures created through the pyplot interface (`matplotlib.pyplot.figure`) are retained until explicitly closed and may consume too much memory. (To control this warning, see the rcParam `figure.max_open_warning`).\n",
      "/users/amr1/miniconda3/envs/basepair/lib/python3.6/site-packages/ipykernel/__main__.py:27: RuntimeWarning: More than 20 figures have been opened. Figures created through the pyplot interface (`matplotlib.pyplot.figure`) are retained until explicitly closed and may consume too much memory. (To control this warning, see the rcParam `figure.max_open_warning`).\n",
      "/users/amr1/miniconda3/envs/basepair/lib/python3.6/site-packages/ipykernel/__main__.py:27: RuntimeWarning: More than 20 figures have been opened. Figures created through the pyplot interface (`matplotlib.pyplot.figure`) are retained until explicitly closed and may consume too much memory. (To control this warning, see the rcParam `figure.max_open_warning`).\n",
      "/users/amr1/miniconda3/envs/basepair/lib/python3.6/site-packages/ipykernel/__main__.py:27: RuntimeWarning: More than 20 figures have been opened. Figures created through the pyplot interface (`matplotlib.pyplot.figure`) are retained until explicitly closed and may consume too much memory. (To control this warning, see the rcParam `figure.max_open_warning`).\n",
      "/users/amr1/miniconda3/envs/basepair/lib/python3.6/site-packages/ipykernel/__main__.py:27: RuntimeWarning: More than 20 figures have been opened. Figures created through the pyplot interface (`matplotlib.pyplot.figure`) are retained until explicitly closed and may consume too much memory. (To control this warning, see the rcParam `figure.max_open_warning`).\n",
      "/users/amr1/miniconda3/envs/basepair/lib/python3.6/site-packages/ipykernel/__main__.py:27: RuntimeWarning: More than 20 figures have been opened. Figures created through the pyplot interface (`matplotlib.pyplot.figure`) are retained until explicitly closed and may consume too much memory. (To control this warning, see the rcParam `figure.max_open_warning`).\n",
      "/users/amr1/miniconda3/envs/basepair/lib/python3.6/site-packages/ipykernel/__main__.py:27: RuntimeWarning: More than 20 figures have been opened. Figures created through the pyplot interface (`matplotlib.pyplot.figure`) are retained until explicitly closed and may consume too much memory. (To control this warning, see the rcParam `figure.max_open_warning`).\n",
      "/users/amr1/miniconda3/envs/basepair/lib/python3.6/site-packages/ipykernel/__main__.py:27: RuntimeWarning: More than 20 figures have been opened. Figures created through the pyplot interface (`matplotlib.pyplot.figure`) are retained until explicitly closed and may consume too much memory. (To control this warning, see the rcParam `figure.max_open_warning`).\n",
      "/users/amr1/miniconda3/envs/basepair/lib/python3.6/site-packages/ipykernel/__main__.py:27: RuntimeWarning: More than 20 figures have been opened. Figures created through the pyplot interface (`matplotlib.pyplot.figure`) are retained until explicitly closed and may consume too much memory. (To control this warning, see the rcParam `figure.max_open_warning`).\n",
      "/users/amr1/miniconda3/envs/basepair/lib/python3.6/site-packages/ipykernel/__main__.py:27: RuntimeWarning: More than 20 figures have been opened. Figures created through the pyplot interface (`matplotlib.pyplot.figure`) are retained until explicitly closed and may consume too much memory. (To control this warning, see the rcParam `figure.max_open_warning`).\n"
     ]
    },
    {
     "data": {
      "text/plain": [
       "<Figure size 2400x1500 with 0 Axes>"
      ]
     },
     "metadata": {},
     "output_type": "display_data"
    },
    {
     "data": {
      "text/plain": [
       "<Figure size 2400x1500 with 0 Axes>"
      ]
     },
     "metadata": {},
     "output_type": "display_data"
    },
    {
     "data": {
      "text/plain": [
       "<Figure size 2400x1500 with 0 Axes>"
      ]
     },
     "metadata": {},
     "output_type": "display_data"
    },
    {
     "data": {
      "text/plain": [
       "<Figure size 2400x1500 with 0 Axes>"
      ]
     },
     "metadata": {},
     "output_type": "display_data"
    },
    {
     "data": {
      "text/plain": [
       "<Figure size 2400x1500 with 0 Axes>"
      ]
     },
     "metadata": {},
     "output_type": "display_data"
    },
    {
     "data": {
      "text/plain": [
       "<Figure size 2400x1500 with 0 Axes>"
      ]
     },
     "metadata": {},
     "output_type": "display_data"
    },
    {
     "data": {
      "text/plain": [
       "<Figure size 2400x1500 with 0 Axes>"
      ]
     },
     "metadata": {},
     "output_type": "display_data"
    },
    {
     "data": {
      "text/plain": [
       "<Figure size 432x288 with 0 Axes>"
      ]
     },
     "metadata": {},
     "output_type": "display_data"
    },
    {
     "data": {
      "text/plain": [
       "<Figure size 432x288 with 0 Axes>"
      ]
     },
     "metadata": {},
     "output_type": "display_data"
    },
    {
     "data": {
      "text/plain": [
       "<Figure size 432x288 with 0 Axes>"
      ]
     },
     "metadata": {},
     "output_type": "display_data"
    },
    {
     "data": {
      "text/plain": [
       "<Figure size 432x288 with 0 Axes>"
      ]
     },
     "metadata": {},
     "output_type": "display_data"
    },
    {
     "data": {
      "text/plain": [
       "<Figure size 432x288 with 0 Axes>"
      ]
     },
     "metadata": {},
     "output_type": "display_data"
    },
    {
     "data": {
      "text/plain": [
       "<Figure size 432x288 with 0 Axes>"
      ]
     },
     "metadata": {},
     "output_type": "display_data"
    },
    {
     "data": {
      "text/plain": [
       "<Figure size 432x288 with 0 Axes>"
      ]
     },
     "metadata": {},
     "output_type": "display_data"
    },
    {
     "data": {
      "text/plain": [
       "<Figure size 432x288 with 0 Axes>"
      ]
     },
     "metadata": {},
     "output_type": "display_data"
    },
    {
     "data": {
      "text/plain": [
       "<Figure size 432x288 with 0 Axes>"
      ]
     },
     "metadata": {},
     "output_type": "display_data"
    },
    {
     "data": {
      "text/plain": [
       "<Figure size 432x288 with 0 Axes>"
      ]
     },
     "metadata": {},
     "output_type": "display_data"
    },
    {
     "data": {
      "text/plain": [
       "<Figure size 432x288 with 0 Axes>"
      ]
     },
     "metadata": {},
     "output_type": "display_data"
    },
    {
     "data": {
      "text/plain": [
       "<Figure size 432x288 with 0 Axes>"
      ]
     },
     "metadata": {},
     "output_type": "display_data"
    },
    {
     "data": {
      "text/plain": [
       "<Figure size 432x288 with 0 Axes>"
      ]
     },
     "metadata": {},
     "output_type": "display_data"
    },
    {
     "data": {
      "text/plain": [
       "<Figure size 432x288 with 0 Axes>"
      ]
     },
     "metadata": {},
     "output_type": "display_data"
    },
    {
     "data": {
      "text/plain": [
       "<Figure size 432x288 with 0 Axes>"
      ]
     },
     "metadata": {},
     "output_type": "display_data"
    },
    {
     "data": {
      "text/plain": [
       "<Figure size 432x288 with 0 Axes>"
      ]
     },
     "metadata": {},
     "output_type": "display_data"
    },
    {
     "data": {
      "text/plain": [
       "<Figure size 432x288 with 0 Axes>"
      ]
     },
     "metadata": {},
     "output_type": "display_data"
    },
    {
     "data": {
      "text/plain": [
       "<Figure size 432x288 with 0 Axes>"
      ]
     },
     "metadata": {},
     "output_type": "display_data"
    },
    {
     "data": {
      "text/plain": [
       "<Figure size 432x288 with 0 Axes>"
      ]
     },
     "metadata": {},
     "output_type": "display_data"
    },
    {
     "data": {
      "text/plain": [
       "<Figure size 432x288 with 0 Axes>"
      ]
     },
     "metadata": {},
     "output_type": "display_data"
    },
    {
     "data": {
      "text/plain": [
       "<Figure size 432x288 with 0 Axes>"
      ]
     },
     "metadata": {},
     "output_type": "display_data"
    },
    {
     "data": {
      "text/plain": [
       "<Figure size 432x288 with 0 Axes>"
      ]
     },
     "metadata": {},
     "output_type": "display_data"
    },
    {
     "data": {
      "text/plain": [
       "<Figure size 432x288 with 0 Axes>"
      ]
     },
     "metadata": {},
     "output_type": "display_data"
    },
    {
     "data": {
      "text/plain": [
       "<Figure size 432x288 with 0 Axes>"
      ]
     },
     "metadata": {},
     "output_type": "display_data"
    },
    {
     "data": {
      "text/plain": [
       "<Figure size 432x288 with 0 Axes>"
      ]
     },
     "metadata": {},
     "output_type": "display_data"
    },
    {
     "data": {
      "text/plain": [
       "<Figure size 432x288 with 0 Axes>"
      ]
     },
     "metadata": {},
     "output_type": "display_data"
    },
    {
     "data": {
      "text/plain": [
       "<Figure size 432x288 with 0 Axes>"
      ]
     },
     "metadata": {},
     "output_type": "display_data"
    },
    {
     "data": {
      "text/plain": [
       "<Figure size 432x288 with 0 Axes>"
      ]
     },
     "metadata": {},
     "output_type": "display_data"
    },
    {
     "data": {
      "text/plain": [
       "<Figure size 432x288 with 0 Axes>"
      ]
     },
     "metadata": {},
     "output_type": "display_data"
    },
    {
     "data": {
      "text/plain": [
       "<Figure size 432x288 with 0 Axes>"
      ]
     },
     "metadata": {},
     "output_type": "display_data"
    },
    {
     "data": {
      "text/plain": [
       "<Figure size 432x288 with 0 Axes>"
      ]
     },
     "metadata": {},
     "output_type": "display_data"
    },
    {
     "data": {
      "text/plain": [
       "<Figure size 432x288 with 0 Axes>"
      ]
     },
     "metadata": {},
     "output_type": "display_data"
    },
    {
     "data": {
      "text/plain": [
       "<Figure size 432x288 with 0 Axes>"
      ]
     },
     "metadata": {},
     "output_type": "display_data"
    },
    {
     "data": {
      "text/plain": [
       "<Figure size 432x288 with 0 Axes>"
      ]
     },
     "metadata": {},
     "output_type": "display_data"
    },
    {
     "data": {
      "text/plain": [
       "<Figure size 432x288 with 0 Axes>"
      ]
     },
     "metadata": {},
     "output_type": "display_data"
    },
    {
     "data": {
      "text/plain": [
       "<Figure size 432x288 with 0 Axes>"
      ]
     },
     "metadata": {},
     "output_type": "display_data"
    },
    {
     "data": {
      "text/plain": [
       "<Figure size 432x288 with 0 Axes>"
      ]
     },
     "metadata": {},
     "output_type": "display_data"
    },
    {
     "data": {
      "text/plain": [
       "<Figure size 432x288 with 0 Axes>"
      ]
     },
     "metadata": {},
     "output_type": "display_data"
    },
    {
     "data": {
      "text/plain": [
       "<Figure size 432x288 with 0 Axes>"
      ]
     },
     "metadata": {},
     "output_type": "display_data"
    },
    {
     "data": {
      "text/plain": [
       "<Figure size 432x288 with 0 Axes>"
      ]
     },
     "metadata": {},
     "output_type": "display_data"
    },
    {
     "data": {
      "text/plain": [
       "<Figure size 432x288 with 0 Axes>"
      ]
     },
     "metadata": {},
     "output_type": "display_data"
    },
    {
     "data": {
      "text/plain": [
       "<Figure size 432x288 with 0 Axes>"
      ]
     },
     "metadata": {},
     "output_type": "display_data"
    }
   ],
   "source": [
    "# MoDISco\n",
    "if not os.path.exists(\"comparison_figs/\"+target+\"/de_novo/modisco\"):\n",
    "    os.makedirs(\"comparison_figs/\"+target+\"/de_novo/modisco\")\n",
    "if not os.path.exists(\"comparison_figs/\"+target+\"/calibrated/modisco\"):\n",
    "    os.makedirs(\"comparison_figs/\"+target+\"/calibrated/modisco\")\n",
    "    \n",
    "post_hypimps = np.load(\"/oak/stanford/groups/akundaje/amr1/pho4_final/models/imp-scores/pho4_nexus/post_counts_hypimps.npy\")\n",
    "post_actualimps = np.load(\"/oak/stanford/groups/akundaje/amr1/pho4_final/models/imp-scores/pho4_nexus/post_counts_actualimps.npy\")  \n",
    "modisco_seqs = np.load(\"/oak/stanford/groups/akundaje/amr1/pho4_final/models/imp-scores/pho4_nexus/seqs.npy\")\n",
    "grp = h5py.File(\"/oak/stanford/groups/akundaje/amr1/pho4_final/models/modisco/pho4_nexus/counts_results.hdf5\",\"r\")\n",
    "print(post_actualimps.shape, post_hypimps.shape, modisco_seqs.shape)\n",
    "track_set = modisco.tfmodisco_workflow.workflow.prep_track_set(\n",
    "            task_names=[\"task0_logcount\"], contrib_scores={\"task0_logcount\": post_actualimps},\n",
    "            hypothetical_contribs={\"task0_logcount\": post_hypimps}, one_hot=modisco_seqs)\n",
    "loaded_tfmodisco_results = workflow.TfModiscoResults.from_hdf5(grp, track_set=track_set)\n",
    "\n",
    "metacluster_idx = \"metacluster_1\"\n",
    "pattern_list = loaded_tfmodisco_results.metacluster_idx_to_submetacluster_results[metacluster_idx].seqlets_to_patterns_result.patterns\n",
    "modisco_center = 1+int(len(pattern_list[0][\"task0_logcount_hypothetical_contribs\"].fwd)/2)\n",
    "cwm_halfwidth = 5\n",
    "\n",
    "CWMs = []\n",
    "for idx in range(min(10, len(pattern_list))):\n",
    "    untrimmed_pattern = pattern_list[idx][\"task0_logcount_hypothetical_contribs\"].fwd\n",
    "    cwm = untrimmed_pattern[modisco_center-cwm_halfwidth:modisco_center+cwm_halfwidth]\n",
    "    CWMs.append(cwm)\n",
    "    matplotlib.rc('font', **font)\n",
    "    fig = plt.figure(figsize=(8,5), dpi=300)\n",
    "    ax = fig.add_subplot(111)\n",
    "    viz_sequence.plot_weights_given_ax(ax, cwm,\n",
    "                                       height_padding_factor=0.2,\n",
    "                                       length_padding=1.0,\n",
    "                                       subticks_frequency=1.0,\n",
    "                                       highlight={})\n",
    "    fig.savefig('comparison_figs/'+target+'/de_novo/modisco/cwm_'+str(idx)+'.png', dpi=300)\n",
    "    plt.clf()\n",
    "\n",
    "complement = {'A': 'T', 'C': 'G', 'G': 'C', 'T': 'A'} \n",
    "def getRevComp(seq):  # reverse complement function\n",
    "    ret = \"\"\n",
    "    for bp in seq.upper(): ret += complement[bp]\n",
    "    return ret[::-1]\n",
    "\n",
    "def generate_matrix(seq):\n",
    "    seq_matrix = np.zeros((len(seq), 4))\n",
    "    for j in range(len(seq)):\n",
    "        if seq[j] == 'A':\n",
    "            seq_matrix[j,0] = 1\n",
    "        elif seq[j] == 'C':\n",
    "            seq_matrix[j,1] = 1\n",
    "        elif seq[j] == 'G':\n",
    "            seq_matrix[j,2] = 1\n",
    "        elif seq[j] == 'T':\n",
    "            seq_matrix[j,3] = 1\n",
    "    return seq_matrix\n",
    "\n",
    "def get_PWM_sum_score(sequence, score_matrix):\n",
    "    score_len = score_matrix.shape[0]\n",
    "    score = 0\n",
    "    for j in range(len(sequence) - score_len + 1):\n",
    "        seq_matrix = generate_matrix(sequence[j:j+score_len])\n",
    "        score += np.sum(score_matrix * seq_matrix)\n",
    "    rc_sequence = getRevComp(sequence)\n",
    "    rc_score = 0\n",
    "    for j in range(len(rc_sequence) - score_len + 1):\n",
    "        seq_matrix = generate_matrix(rc_sequence[j:j+score_len])\n",
    "        rc_score += np.sum(score_matrix * seq_matrix)\n",
    "    return max(score, rc_score)\n",
    "\n",
    "def get_PWM_max_score(sequence, score_matrix):\n",
    "    score_len = score_matrix.shape[0]\n",
    "    scores = []\n",
    "    for j in range(len(sequence) - score_len + 1):\n",
    "        seq_matrix = generate_matrix(sequence[j:j+score_len])\n",
    "        scores.append(np.sum(score_matrix * seq_matrix))\n",
    "    rc_sequence = getRevComp(sequence)\n",
    "    for j in range(len(rc_sequence) - score_len + 1):\n",
    "        seq_matrix = generate_matrix(rc_sequence[j:j+score_len])\n",
    "        scores.append(np.sum(score_matrix * seq_matrix))\n",
    "    return max(scores)\n",
    "\n",
    "for idx, cwm in enumerate(CWMs):\n",
    "    yvals_sum = []\n",
    "    yvals_max = []\n",
    "    for seq in seqs:\n",
    "        yvals_sum.append(get_PWM_sum_score(seq, cwm))\n",
    "        yvals_max.append(get_PWM_max_score(seq, cwm))\n",
    "    yvals_sum = np.array(yvals_sum)\n",
    "    yvals_max = np.array(yvals_max)\n",
    "    plot_and_save(all_xvals, yvals_sum, \"modisco_sum_\"+str(idx),\n",
    "              xlabel=\"True Log Signal Intensity\",\n",
    "              ylabel=\"Pred. Score\",\n",
    "              path='comparison_figs/'+target+'/de_novo/modisco/')\n",
    "    plot_and_save(all_xvals, yvals_max, \"modisco_max_\"+str(idx),\n",
    "              xlabel=\"True Log Signal Intensity\",\n",
    "              ylabel=\"Pred. Score\",\n",
    "              path='comparison_figs/'+target+'/de_novo/modisco/')\n",
    "\n",
    "    sample_sums = []\n",
    "    sample_maxs = []\n",
    "    for seq in calibration_samples:\n",
    "        sample_sums.append(get_PWM_sum_score(seq, cwm))\n",
    "        sample_maxs.append(get_PWM_max_score(seq, cwm))\n",
    "    sample_sums = np.array(sample_sums)\n",
    "    sample_maxs = np.array(sample_maxs)\n",
    "    lr1 = LinearRegression()\n",
    "    calibration_func1 = lr1(sample_sums, sample_labels)\n",
    "    yvals_sum = calibration_func1(yvals_sum)\n",
    "    lr2 = LinearRegression()\n",
    "    calibration_func2 = lr2(sample_maxs, sample_labels)\n",
    "    yvals_max = calibration_func2(yvals_max)\n",
    "    plot_and_save(all_xvals, yvals_sum, \"modisco_sum_\"+str(idx),\n",
    "                  xlabel=\"True Log Signal Intensity\",\n",
    "                  ylabel=\"Pred. Log Signal Intensity\",\n",
    "                  path='comparison_figs/'+target+'/calibrated/modisco/',\n",
    "                  same_scale=True)\n",
    "    residuals = all_xvals - yvals_sum  # residuals are y - yhat\n",
    "    plot_and_save(yvals_sum, residuals, \"sum_residuals_\"+str(idx),\n",
    "                  xlabel=\"Predictions\",\n",
    "                  ylabel=\"Residuals\",\n",
    "                  path='comparison_figs/'+target+'/calibrated/modisco/')\n",
    "    plot_and_save(all_xvals, yvals_max, \"modisco_max_\"+str(idx),\n",
    "                  xlabel=\"True Log Signal Intensity\",\n",
    "                  ylabel=\"Pred. Log Signal Intensity\",\n",
    "                  path='comparison_figs/'+target+'/calibrated/modisco/',\n",
    "                  same_scale=True)\n",
    "    residuals = all_xvals - yvals_max  # residuals are y - yhat\n",
    "    plot_and_save(yvals_max, residuals, \"max_residuals_\"+str(idx),\n",
    "                  xlabel=\"Predictions\",\n",
    "                  ylabel=\"Residuals\",\n",
    "                  path='comparison_figs/'+target+'/calibrated/modisco/')"
   ]
  },
  {
   "cell_type": "code",
   "execution_count": 10,
   "metadata": {},
   "outputs": [
    {
     "name": "stderr",
     "output_type": "stream",
     "text": [
      "/users/amr1/miniconda3/envs/basepair/lib/python3.6/site-packages/ipykernel/__main__.py:27: RuntimeWarning: More than 20 figures have been opened. Figures created through the pyplot interface (`matplotlib.pyplot.figure`) are retained until explicitly closed and may consume too much memory. (To control this warning, see the rcParam `figure.max_open_warning`).\n",
      "/users/amr1/miniconda3/envs/basepair/lib/python3.6/site-packages/ipykernel/__main__.py:27: RuntimeWarning: More than 20 figures have been opened. Figures created through the pyplot interface (`matplotlib.pyplot.figure`) are retained until explicitly closed and may consume too much memory. (To control this warning, see the rcParam `figure.max_open_warning`).\n",
      "/users/amr1/miniconda3/envs/basepair/lib/python3.6/site-packages/ipykernel/__main__.py:27: RuntimeWarning: More than 20 figures have been opened. Figures created through the pyplot interface (`matplotlib.pyplot.figure`) are retained until explicitly closed and may consume too much memory. (To control this warning, see the rcParam `figure.max_open_warning`).\n",
      "/users/amr1/miniconda3/envs/basepair/lib/python3.6/site-packages/ipykernel/__main__.py:27: RuntimeWarning: More than 20 figures have been opened. Figures created through the pyplot interface (`matplotlib.pyplot.figure`) are retained until explicitly closed and may consume too much memory. (To control this warning, see the rcParam `figure.max_open_warning`).\n",
      "/users/amr1/miniconda3/envs/basepair/lib/python3.6/site-packages/ipykernel/__main__.py:27: RuntimeWarning: More than 20 figures have been opened. Figures created through the pyplot interface (`matplotlib.pyplot.figure`) are retained until explicitly closed and may consume too much memory. (To control this warning, see the rcParam `figure.max_open_warning`).\n",
      "/users/amr1/miniconda3/envs/basepair/lib/python3.6/site-packages/ipykernel/__main__.py:27: RuntimeWarning: More than 20 figures have been opened. Figures created through the pyplot interface (`matplotlib.pyplot.figure`) are retained until explicitly closed and may consume too much memory. (To control this warning, see the rcParam `figure.max_open_warning`).\n",
      "/users/amr1/miniconda3/envs/basepair/lib/python3.6/site-packages/ipykernel/__main__.py:27: RuntimeWarning: More than 20 figures have been opened. Figures created through the pyplot interface (`matplotlib.pyplot.figure`) are retained until explicitly closed and may consume too much memory. (To control this warning, see the rcParam `figure.max_open_warning`).\n",
      "/users/amr1/miniconda3/envs/basepair/lib/python3.6/site-packages/ipykernel/__main__.py:27: RuntimeWarning: More than 20 figures have been opened. Figures created through the pyplot interface (`matplotlib.pyplot.figure`) are retained until explicitly closed and may consume too much memory. (To control this warning, see the rcParam `figure.max_open_warning`).\n",
      "/users/amr1/miniconda3/envs/basepair/lib/python3.6/site-packages/ipykernel/__main__.py:27: RuntimeWarning: More than 20 figures have been opened. Figures created through the pyplot interface (`matplotlib.pyplot.figure`) are retained until explicitly closed and may consume too much memory. (To control this warning, see the rcParam `figure.max_open_warning`).\n",
      "/users/amr1/miniconda3/envs/basepair/lib/python3.6/site-packages/ipykernel/__main__.py:27: RuntimeWarning: More than 20 figures have been opened. Figures created through the pyplot interface (`matplotlib.pyplot.figure`) are retained until explicitly closed and may consume too much memory. (To control this warning, see the rcParam `figure.max_open_warning`).\n",
      "/users/amr1/miniconda3/envs/basepair/lib/python3.6/site-packages/ipykernel/__main__.py:27: RuntimeWarning: More than 20 figures have been opened. Figures created through the pyplot interface (`matplotlib.pyplot.figure`) are retained until explicitly closed and may consume too much memory. (To control this warning, see the rcParam `figure.max_open_warning`).\n",
      "/users/amr1/miniconda3/envs/basepair/lib/python3.6/site-packages/ipykernel/__main__.py:27: RuntimeWarning: More than 20 figures have been opened. Figures created through the pyplot interface (`matplotlib.pyplot.figure`) are retained until explicitly closed and may consume too much memory. (To control this warning, see the rcParam `figure.max_open_warning`).\n",
      "/users/amr1/miniconda3/envs/basepair/lib/python3.6/site-packages/ipykernel/__main__.py:27: RuntimeWarning: More than 20 figures have been opened. Figures created through the pyplot interface (`matplotlib.pyplot.figure`) are retained until explicitly closed and may consume too much memory. (To control this warning, see the rcParam `figure.max_open_warning`).\n",
      "/users/amr1/miniconda3/envs/basepair/lib/python3.6/site-packages/ipykernel/__main__.py:27: RuntimeWarning: More than 20 figures have been opened. Figures created through the pyplot interface (`matplotlib.pyplot.figure`) are retained until explicitly closed and may consume too much memory. (To control this warning, see the rcParam `figure.max_open_warning`).\n",
      "/users/amr1/miniconda3/envs/basepair/lib/python3.6/site-packages/ipykernel/__main__.py:27: RuntimeWarning: More than 20 figures have been opened. Figures created through the pyplot interface (`matplotlib.pyplot.figure`) are retained until explicitly closed and may consume too much memory. (To control this warning, see the rcParam `figure.max_open_warning`).\n",
      "/users/amr1/miniconda3/envs/basepair/lib/python3.6/site-packages/ipykernel/__main__.py:27: RuntimeWarning: More than 20 figures have been opened. Figures created through the pyplot interface (`matplotlib.pyplot.figure`) are retained until explicitly closed and may consume too much memory. (To control this warning, see the rcParam `figure.max_open_warning`).\n",
      "/users/amr1/miniconda3/envs/basepair/lib/python3.6/site-packages/ipykernel/__main__.py:27: RuntimeWarning: More than 20 figures have been opened. Figures created through the pyplot interface (`matplotlib.pyplot.figure`) are retained until explicitly closed and may consume too much memory. (To control this warning, see the rcParam `figure.max_open_warning`).\n",
      "/users/amr1/miniconda3/envs/basepair/lib/python3.6/site-packages/ipykernel/__main__.py:27: RuntimeWarning: More than 20 figures have been opened. Figures created through the pyplot interface (`matplotlib.pyplot.figure`) are retained until explicitly closed and may consume too much memory. (To control this warning, see the rcParam `figure.max_open_warning`).\n",
      "/users/amr1/miniconda3/envs/basepair/lib/python3.6/site-packages/ipykernel/__main__.py:27: RuntimeWarning: More than 20 figures have been opened. Figures created through the pyplot interface (`matplotlib.pyplot.figure`) are retained until explicitly closed and may consume too much memory. (To control this warning, see the rcParam `figure.max_open_warning`).\n",
      "/users/amr1/miniconda3/envs/basepair/lib/python3.6/site-packages/ipykernel/__main__.py:27: RuntimeWarning: More than 20 figures have been opened. Figures created through the pyplot interface (`matplotlib.pyplot.figure`) are retained until explicitly closed and may consume too much memory. (To control this warning, see the rcParam `figure.max_open_warning`).\n",
      "/users/amr1/miniconda3/envs/basepair/lib/python3.6/site-packages/ipykernel/__main__.py:27: RuntimeWarning: More than 20 figures have been opened. Figures created through the pyplot interface (`matplotlib.pyplot.figure`) are retained until explicitly closed and may consume too much memory. (To control this warning, see the rcParam `figure.max_open_warning`).\n",
      "/users/amr1/miniconda3/envs/basepair/lib/python3.6/site-packages/ipykernel/__main__.py:27: RuntimeWarning: More than 20 figures have been opened. Figures created through the pyplot interface (`matplotlib.pyplot.figure`) are retained until explicitly closed and may consume too much memory. (To control this warning, see the rcParam `figure.max_open_warning`).\n",
      "/users/amr1/miniconda3/envs/basepair/lib/python3.6/site-packages/ipykernel/__main__.py:27: RuntimeWarning: More than 20 figures have been opened. Figures created through the pyplot interface (`matplotlib.pyplot.figure`) are retained until explicitly closed and may consume too much memory. (To control this warning, see the rcParam `figure.max_open_warning`).\n",
      "/users/amr1/miniconda3/envs/basepair/lib/python3.6/site-packages/ipykernel/__main__.py:27: RuntimeWarning: More than 20 figures have been opened. Figures created through the pyplot interface (`matplotlib.pyplot.figure`) are retained until explicitly closed and may consume too much memory. (To control this warning, see the rcParam `figure.max_open_warning`).\n",
      "/users/amr1/miniconda3/envs/basepair/lib/python3.6/site-packages/ipykernel/__main__.py:27: RuntimeWarning: More than 20 figures have been opened. Figures created through the pyplot interface (`matplotlib.pyplot.figure`) are retained until explicitly closed and may consume too much memory. (To control this warning, see the rcParam `figure.max_open_warning`).\n",
      "/users/amr1/miniconda3/envs/basepair/lib/python3.6/site-packages/ipykernel/__main__.py:27: RuntimeWarning: More than 20 figures have been opened. Figures created through the pyplot interface (`matplotlib.pyplot.figure`) are retained until explicitly closed and may consume too much memory. (To control this warning, see the rcParam `figure.max_open_warning`).\n",
      "/users/amr1/miniconda3/envs/basepair/lib/python3.6/site-packages/ipykernel/__main__.py:27: RuntimeWarning: More than 20 figures have been opened. Figures created through the pyplot interface (`matplotlib.pyplot.figure`) are retained until explicitly closed and may consume too much memory. (To control this warning, see the rcParam `figure.max_open_warning`).\n",
      "/users/amr1/miniconda3/envs/basepair/lib/python3.6/site-packages/ipykernel/__main__.py:27: RuntimeWarning: More than 20 figures have been opened. Figures created through the pyplot interface (`matplotlib.pyplot.figure`) are retained until explicitly closed and may consume too much memory. (To control this warning, see the rcParam `figure.max_open_warning`).\n",
      "/users/amr1/miniconda3/envs/basepair/lib/python3.6/site-packages/ipykernel/__main__.py:27: RuntimeWarning: More than 20 figures have been opened. Figures created through the pyplot interface (`matplotlib.pyplot.figure`) are retained until explicitly closed and may consume too much memory. (To control this warning, see the rcParam `figure.max_open_warning`).\n",
      "/users/amr1/miniconda3/envs/basepair/lib/python3.6/site-packages/ipykernel/__main__.py:27: RuntimeWarning: More than 20 figures have been opened. Figures created through the pyplot interface (`matplotlib.pyplot.figure`) are retained until explicitly closed and may consume too much memory. (To control this warning, see the rcParam `figure.max_open_warning`).\n",
      "/users/amr1/miniconda3/envs/basepair/lib/python3.6/site-packages/ipykernel/__main__.py:27: RuntimeWarning: More than 20 figures have been opened. Figures created through the pyplot interface (`matplotlib.pyplot.figure`) are retained until explicitly closed and may consume too much memory. (To control this warning, see the rcParam `figure.max_open_warning`).\n",
      "/users/amr1/miniconda3/envs/basepair/lib/python3.6/site-packages/ipykernel/__main__.py:27: RuntimeWarning: More than 20 figures have been opened. Figures created through the pyplot interface (`matplotlib.pyplot.figure`) are retained until explicitly closed and may consume too much memory. (To control this warning, see the rcParam `figure.max_open_warning`).\n",
      "/users/amr1/miniconda3/envs/basepair/lib/python3.6/site-packages/ipykernel/__main__.py:27: RuntimeWarning: More than 20 figures have been opened. Figures created through the pyplot interface (`matplotlib.pyplot.figure`) are retained until explicitly closed and may consume too much memory. (To control this warning, see the rcParam `figure.max_open_warning`).\n",
      "/users/amr1/miniconda3/envs/basepair/lib/python3.6/site-packages/ipykernel/__main__.py:27: RuntimeWarning: More than 20 figures have been opened. Figures created through the pyplot interface (`matplotlib.pyplot.figure`) are retained until explicitly closed and may consume too much memory. (To control this warning, see the rcParam `figure.max_open_warning`).\n",
      "/users/amr1/miniconda3/envs/basepair/lib/python3.6/site-packages/ipykernel/__main__.py:27: RuntimeWarning: More than 20 figures have been opened. Figures created through the pyplot interface (`matplotlib.pyplot.figure`) are retained until explicitly closed and may consume too much memory. (To control this warning, see the rcParam `figure.max_open_warning`).\n",
      "/users/amr1/miniconda3/envs/basepair/lib/python3.6/site-packages/ipykernel/__main__.py:27: RuntimeWarning: More than 20 figures have been opened. Figures created through the pyplot interface (`matplotlib.pyplot.figure`) are retained until explicitly closed and may consume too much memory. (To control this warning, see the rcParam `figure.max_open_warning`).\n",
      "/users/amr1/miniconda3/envs/basepair/lib/python3.6/site-packages/ipykernel/__main__.py:27: RuntimeWarning: More than 20 figures have been opened. Figures created through the pyplot interface (`matplotlib.pyplot.figure`) are retained until explicitly closed and may consume too much memory. (To control this warning, see the rcParam `figure.max_open_warning`).\n",
      "/users/amr1/miniconda3/envs/basepair/lib/python3.6/site-packages/ipykernel/__main__.py:27: RuntimeWarning: More than 20 figures have been opened. Figures created through the pyplot interface (`matplotlib.pyplot.figure`) are retained until explicitly closed and may consume too much memory. (To control this warning, see the rcParam `figure.max_open_warning`).\n",
      "/users/amr1/miniconda3/envs/basepair/lib/python3.6/site-packages/ipykernel/__main__.py:27: RuntimeWarning: More than 20 figures have been opened. Figures created through the pyplot interface (`matplotlib.pyplot.figure`) are retained until explicitly closed and may consume too much memory. (To control this warning, see the rcParam `figure.max_open_warning`).\n",
      "/users/amr1/miniconda3/envs/basepair/lib/python3.6/site-packages/ipykernel/__main__.py:27: RuntimeWarning: More than 20 figures have been opened. Figures created through the pyplot interface (`matplotlib.pyplot.figure`) are retained until explicitly closed and may consume too much memory. (To control this warning, see the rcParam `figure.max_open_warning`).\n",
      "/users/amr1/miniconda3/envs/basepair/lib/python3.6/site-packages/ipykernel/__main__.py:27: RuntimeWarning: More than 20 figures have been opened. Figures created through the pyplot interface (`matplotlib.pyplot.figure`) are retained until explicitly closed and may consume too much memory. (To control this warning, see the rcParam `figure.max_open_warning`).\n",
      "/users/amr1/miniconda3/envs/basepair/lib/python3.6/site-packages/ipykernel/__main__.py:27: RuntimeWarning: More than 20 figures have been opened. Figures created through the pyplot interface (`matplotlib.pyplot.figure`) are retained until explicitly closed and may consume too much memory. (To control this warning, see the rcParam `figure.max_open_warning`).\n",
      "/users/amr1/miniconda3/envs/basepair/lib/python3.6/site-packages/ipykernel/__main__.py:27: RuntimeWarning: More than 20 figures have been opened. Figures created through the pyplot interface (`matplotlib.pyplot.figure`) are retained until explicitly closed and may consume too much memory. (To control this warning, see the rcParam `figure.max_open_warning`).\n",
      "/users/amr1/miniconda3/envs/basepair/lib/python3.6/site-packages/ipykernel/__main__.py:27: RuntimeWarning: More than 20 figures have been opened. Figures created through the pyplot interface (`matplotlib.pyplot.figure`) are retained until explicitly closed and may consume too much memory. (To control this warning, see the rcParam `figure.max_open_warning`).\n",
      "/users/amr1/miniconda3/envs/basepair/lib/python3.6/site-packages/ipykernel/__main__.py:27: RuntimeWarning: More than 20 figures have been opened. Figures created through the pyplot interface (`matplotlib.pyplot.figure`) are retained until explicitly closed and may consume too much memory. (To control this warning, see the rcParam `figure.max_open_warning`).\n",
      "/users/amr1/miniconda3/envs/basepair/lib/python3.6/site-packages/ipykernel/__main__.py:27: RuntimeWarning: More than 20 figures have been opened. Figures created through the pyplot interface (`matplotlib.pyplot.figure`) are retained until explicitly closed and may consume too much memory. (To control this warning, see the rcParam `figure.max_open_warning`).\n",
      "/users/amr1/miniconda3/envs/basepair/lib/python3.6/site-packages/ipykernel/__main__.py:27: RuntimeWarning: More than 20 figures have been opened. Figures created through the pyplot interface (`matplotlib.pyplot.figure`) are retained until explicitly closed and may consume too much memory. (To control this warning, see the rcParam `figure.max_open_warning`).\n",
      "/users/amr1/miniconda3/envs/basepair/lib/python3.6/site-packages/ipykernel/__main__.py:27: RuntimeWarning: More than 20 figures have been opened. Figures created through the pyplot interface (`matplotlib.pyplot.figure`) are retained until explicitly closed and may consume too much memory. (To control this warning, see the rcParam `figure.max_open_warning`).\n",
      "/users/amr1/miniconda3/envs/basepair/lib/python3.6/site-packages/ipykernel/__main__.py:27: RuntimeWarning: More than 20 figures have been opened. Figures created through the pyplot interface (`matplotlib.pyplot.figure`) are retained until explicitly closed and may consume too much memory. (To control this warning, see the rcParam `figure.max_open_warning`).\n",
      "/users/amr1/miniconda3/envs/basepair/lib/python3.6/site-packages/ipykernel/__main__.py:27: RuntimeWarning: More than 20 figures have been opened. Figures created through the pyplot interface (`matplotlib.pyplot.figure`) are retained until explicitly closed and may consume too much memory. (To control this warning, see the rcParam `figure.max_open_warning`).\n"
     ]
    },
    {
     "data": {
      "text/plain": [
       "<Figure size 2400x1500 with 0 Axes>"
      ]
     },
     "metadata": {},
     "output_type": "display_data"
    },
    {
     "data": {
      "text/plain": [
       "<Figure size 2400x1500 with 0 Axes>"
      ]
     },
     "metadata": {},
     "output_type": "display_data"
    },
    {
     "data": {
      "text/plain": [
       "<Figure size 2400x1500 with 0 Axes>"
      ]
     },
     "metadata": {},
     "output_type": "display_data"
    },
    {
     "data": {
      "text/plain": [
       "<Figure size 2400x1500 with 0 Axes>"
      ]
     },
     "metadata": {},
     "output_type": "display_data"
    },
    {
     "data": {
      "text/plain": [
       "<Figure size 2400x1500 with 0 Axes>"
      ]
     },
     "metadata": {},
     "output_type": "display_data"
    },
    {
     "data": {
      "text/plain": [
       "<Figure size 2400x1500 with 0 Axes>"
      ]
     },
     "metadata": {},
     "output_type": "display_data"
    },
    {
     "data": {
      "text/plain": [
       "<Figure size 2400x1500 with 0 Axes>"
      ]
     },
     "metadata": {},
     "output_type": "display_data"
    },
    {
     "data": {
      "text/plain": [
       "<Figure size 2400x1500 with 0 Axes>"
      ]
     },
     "metadata": {},
     "output_type": "display_data"
    },
    {
     "data": {
      "text/plain": [
       "<Figure size 2400x1500 with 0 Axes>"
      ]
     },
     "metadata": {},
     "output_type": "display_data"
    },
    {
     "data": {
      "text/plain": [
       "<Figure size 2400x1500 with 0 Axes>"
      ]
     },
     "metadata": {},
     "output_type": "display_data"
    },
    {
     "data": {
      "text/plain": [
       "<Figure size 432x288 with 0 Axes>"
      ]
     },
     "metadata": {},
     "output_type": "display_data"
    },
    {
     "data": {
      "text/plain": [
       "<Figure size 432x288 with 0 Axes>"
      ]
     },
     "metadata": {},
     "output_type": "display_data"
    },
    {
     "data": {
      "text/plain": [
       "<Figure size 432x288 with 0 Axes>"
      ]
     },
     "metadata": {},
     "output_type": "display_data"
    },
    {
     "data": {
      "text/plain": [
       "<Figure size 432x288 with 0 Axes>"
      ]
     },
     "metadata": {},
     "output_type": "display_data"
    },
    {
     "data": {
      "text/plain": [
       "<Figure size 432x288 with 0 Axes>"
      ]
     },
     "metadata": {},
     "output_type": "display_data"
    },
    {
     "data": {
      "text/plain": [
       "<Figure size 432x288 with 0 Axes>"
      ]
     },
     "metadata": {},
     "output_type": "display_data"
    },
    {
     "data": {
      "text/plain": [
       "<Figure size 432x288 with 0 Axes>"
      ]
     },
     "metadata": {},
     "output_type": "display_data"
    },
    {
     "data": {
      "text/plain": [
       "<Figure size 432x288 with 0 Axes>"
      ]
     },
     "metadata": {},
     "output_type": "display_data"
    },
    {
     "data": {
      "text/plain": [
       "<Figure size 432x288 with 0 Axes>"
      ]
     },
     "metadata": {},
     "output_type": "display_data"
    },
    {
     "data": {
      "text/plain": [
       "<Figure size 432x288 with 0 Axes>"
      ]
     },
     "metadata": {},
     "output_type": "display_data"
    },
    {
     "data": {
      "text/plain": [
       "<Figure size 432x288 with 0 Axes>"
      ]
     },
     "metadata": {},
     "output_type": "display_data"
    },
    {
     "data": {
      "text/plain": [
       "<Figure size 432x288 with 0 Axes>"
      ]
     },
     "metadata": {},
     "output_type": "display_data"
    },
    {
     "data": {
      "text/plain": [
       "<Figure size 432x288 with 0 Axes>"
      ]
     },
     "metadata": {},
     "output_type": "display_data"
    },
    {
     "data": {
      "text/plain": [
       "<Figure size 432x288 with 0 Axes>"
      ]
     },
     "metadata": {},
     "output_type": "display_data"
    },
    {
     "data": {
      "text/plain": [
       "<Figure size 432x288 with 0 Axes>"
      ]
     },
     "metadata": {},
     "output_type": "display_data"
    },
    {
     "data": {
      "text/plain": [
       "<Figure size 432x288 with 0 Axes>"
      ]
     },
     "metadata": {},
     "output_type": "display_data"
    },
    {
     "data": {
      "text/plain": [
       "<Figure size 432x288 with 0 Axes>"
      ]
     },
     "metadata": {},
     "output_type": "display_data"
    },
    {
     "data": {
      "text/plain": [
       "<Figure size 432x288 with 0 Axes>"
      ]
     },
     "metadata": {},
     "output_type": "display_data"
    },
    {
     "data": {
      "text/plain": [
       "<Figure size 432x288 with 0 Axes>"
      ]
     },
     "metadata": {},
     "output_type": "display_data"
    },
    {
     "data": {
      "text/plain": [
       "<Figure size 432x288 with 0 Axes>"
      ]
     },
     "metadata": {},
     "output_type": "display_data"
    },
    {
     "data": {
      "text/plain": [
       "<Figure size 432x288 with 0 Axes>"
      ]
     },
     "metadata": {},
     "output_type": "display_data"
    },
    {
     "data": {
      "text/plain": [
       "<Figure size 432x288 with 0 Axes>"
      ]
     },
     "metadata": {},
     "output_type": "display_data"
    },
    {
     "data": {
      "text/plain": [
       "<Figure size 432x288 with 0 Axes>"
      ]
     },
     "metadata": {},
     "output_type": "display_data"
    },
    {
     "data": {
      "text/plain": [
       "<Figure size 432x288 with 0 Axes>"
      ]
     },
     "metadata": {},
     "output_type": "display_data"
    },
    {
     "data": {
      "text/plain": [
       "<Figure size 432x288 with 0 Axes>"
      ]
     },
     "metadata": {},
     "output_type": "display_data"
    },
    {
     "data": {
      "text/plain": [
       "<Figure size 432x288 with 0 Axes>"
      ]
     },
     "metadata": {},
     "output_type": "display_data"
    },
    {
     "data": {
      "text/plain": [
       "<Figure size 432x288 with 0 Axes>"
      ]
     },
     "metadata": {},
     "output_type": "display_data"
    },
    {
     "data": {
      "text/plain": [
       "<Figure size 432x288 with 0 Axes>"
      ]
     },
     "metadata": {},
     "output_type": "display_data"
    },
    {
     "data": {
      "text/plain": [
       "<Figure size 432x288 with 0 Axes>"
      ]
     },
     "metadata": {},
     "output_type": "display_data"
    },
    {
     "data": {
      "text/plain": [
       "<Figure size 432x288 with 0 Axes>"
      ]
     },
     "metadata": {},
     "output_type": "display_data"
    },
    {
     "data": {
      "text/plain": [
       "<Figure size 432x288 with 0 Axes>"
      ]
     },
     "metadata": {},
     "output_type": "display_data"
    },
    {
     "data": {
      "text/plain": [
       "<Figure size 432x288 with 0 Axes>"
      ]
     },
     "metadata": {},
     "output_type": "display_data"
    },
    {
     "data": {
      "text/plain": [
       "<Figure size 432x288 with 0 Axes>"
      ]
     },
     "metadata": {},
     "output_type": "display_data"
    },
    {
     "data": {
      "text/plain": [
       "<Figure size 432x288 with 0 Axes>"
      ]
     },
     "metadata": {},
     "output_type": "display_data"
    },
    {
     "data": {
      "text/plain": [
       "<Figure size 432x288 with 0 Axes>"
      ]
     },
     "metadata": {},
     "output_type": "display_data"
    },
    {
     "data": {
      "text/plain": [
       "<Figure size 432x288 with 0 Axes>"
      ]
     },
     "metadata": {},
     "output_type": "display_data"
    },
    {
     "data": {
      "text/plain": [
       "<Figure size 432x288 with 0 Axes>"
      ]
     },
     "metadata": {},
     "output_type": "display_data"
    },
    {
     "data": {
      "text/plain": [
       "<Figure size 432x288 with 0 Axes>"
      ]
     },
     "metadata": {},
     "output_type": "display_data"
    },
    {
     "data": {
      "text/plain": [
       "<Figure size 432x288 with 0 Axes>"
      ]
     },
     "metadata": {},
     "output_type": "display_data"
    },
    {
     "data": {
      "text/plain": [
       "<Figure size 432x288 with 0 Axes>"
      ]
     },
     "metadata": {},
     "output_type": "display_data"
    },
    {
     "data": {
      "text/plain": [
       "<Figure size 432x288 with 0 Axes>"
      ]
     },
     "metadata": {},
     "output_type": "display_data"
    },
    {
     "data": {
      "text/plain": [
       "<Figure size 432x288 with 0 Axes>"
      ]
     },
     "metadata": {},
     "output_type": "display_data"
    },
    {
     "data": {
      "text/plain": [
       "<Figure size 432x288 with 0 Axes>"
      ]
     },
     "metadata": {},
     "output_type": "display_data"
    },
    {
     "data": {
      "text/plain": [
       "<Figure size 432x288 with 0 Axes>"
      ]
     },
     "metadata": {},
     "output_type": "display_data"
    },
    {
     "data": {
      "text/plain": [
       "<Figure size 432x288 with 0 Axes>"
      ]
     },
     "metadata": {},
     "output_type": "display_data"
    },
    {
     "data": {
      "text/plain": [
       "<Figure size 432x288 with 0 Axes>"
      ]
     },
     "metadata": {},
     "output_type": "display_data"
    },
    {
     "data": {
      "text/plain": [
       "<Figure size 432x288 with 0 Axes>"
      ]
     },
     "metadata": {},
     "output_type": "display_data"
    },
    {
     "data": {
      "text/plain": [
       "<Figure size 432x288 with 0 Axes>"
      ]
     },
     "metadata": {},
     "output_type": "display_data"
    },
    {
     "data": {
      "text/plain": [
       "<Figure size 432x288 with 0 Axes>"
      ]
     },
     "metadata": {},
     "output_type": "display_data"
    },
    {
     "data": {
      "text/plain": [
       "<Figure size 432x288 with 0 Axes>"
      ]
     },
     "metadata": {},
     "output_type": "display_data"
    },
    {
     "data": {
      "text/plain": [
       "<Figure size 432x288 with 0 Axes>"
      ]
     },
     "metadata": {},
     "output_type": "display_data"
    },
    {
     "data": {
      "text/plain": [
       "<Figure size 432x288 with 0 Axes>"
      ]
     },
     "metadata": {},
     "output_type": "display_data"
    },
    {
     "data": {
      "text/plain": [
       "<Figure size 432x288 with 0 Axes>"
      ]
     },
     "metadata": {},
     "output_type": "display_data"
    },
    {
     "data": {
      "text/plain": [
       "<Figure size 432x288 with 0 Axes>"
      ]
     },
     "metadata": {},
     "output_type": "display_data"
    },
    {
     "data": {
      "text/plain": [
       "<Figure size 432x288 with 0 Axes>"
      ]
     },
     "metadata": {},
     "output_type": "display_data"
    },
    {
     "data": {
      "text/plain": [
       "<Figure size 432x288 with 0 Axes>"
      ]
     },
     "metadata": {},
     "output_type": "display_data"
    },
    {
     "data": {
      "text/plain": [
       "<Figure size 432x288 with 0 Axes>"
      ]
     },
     "metadata": {},
     "output_type": "display_data"
    },
    {
     "data": {
      "text/plain": [
       "<Figure size 432x288 with 0 Axes>"
      ]
     },
     "metadata": {},
     "output_type": "display_data"
    },
    {
     "data": {
      "text/plain": [
       "<Figure size 432x288 with 0 Axes>"
      ]
     },
     "metadata": {},
     "output_type": "display_data"
    },
    {
     "data": {
      "text/plain": [
       "<Figure size 432x288 with 0 Axes>"
      ]
     },
     "metadata": {},
     "output_type": "display_data"
    }
   ],
   "source": [
    "# Weeder\n",
    "if not os.path.exists(\"comparison_figs/\"+target+\"/de_novo/weeder\"):\n",
    "    os.makedirs(\"comparison_figs/\"+target+\"/de_novo/weeder\")\n",
    "if not os.path.exists(\"comparison_figs/\"+target+\"/calibrated/weeder\"):\n",
    "    os.makedirs(\"comparison_figs/\"+target+\"/calibrated/weeder\")\n",
    "\n",
    "lite_dir = \"/oak/stanford/groups/akundaje/amr1/pho4_final/lite_data/in-vivo/\"\n",
    "filepath = lite_dir+\"pho4_nexus/100_around_summits.fa.matrix.w2\"\n",
    "PWMs = []\n",
    "lines = []\n",
    "for idx, line in enumerate(open(filepath)):\n",
    "    if line[0] == \">\":\n",
    "        if len(lines) == 4:\n",
    "            PWMs.append(np.array(lines)[:,1:].astype('float').T)\n",
    "            lines = []\n",
    "            if len(PWMs) == 10: break\n",
    "    else: lines.append(line.rstrip().split('\\t'))\n",
    "\n",
    "for idx, pwm in enumerate(PWMs):\n",
    "    centered_pwm = np.array([i-np.mean(i) for i in pwm])\n",
    "    matplotlib.rc('font', **font)\n",
    "    fig = plt.figure(figsize=(8,5), dpi=300)\n",
    "    ax = fig.add_subplot(111)\n",
    "    viz_sequence.plot_weights_given_ax(ax, centered_pwm,\n",
    "                                        height_padding_factor=0.2,\n",
    "                                        length_padding=1.0,\n",
    "                                        subticks_frequency=1.0,\n",
    "                                        highlight={})\n",
    "    fig.savefig('comparison_figs/'+target+'/de_novo/weeder/pwm_'+str(idx)+'.png', dpi=300)\n",
    "    plt.clf()\n",
    "\n",
    "for idx, pwm in enumerate(PWMs):\n",
    "    yvals_sum = []\n",
    "    yvals_max = []\n",
    "    for seq in seqs:\n",
    "        yvals_sum.append(get_PWM_sum_score(seq, pwm))\n",
    "        yvals_max.append(get_PWM_max_score(seq, pwm))\n",
    "    yvals_sum = np.array(yvals_sum)\n",
    "    yvals_max = np.array(yvals_max)\n",
    "    plot_and_save(all_xvals, yvals_sum, \"weeder_sum_\"+str(idx),\n",
    "              xlabel=\"True Log Signal Intensity\",\n",
    "              ylabel=\"Pred. Score\",\n",
    "              path='comparison_figs/'+target+'/de_novo/weeder/')\n",
    "    plot_and_save(all_xvals, yvals_max, \"weeder_max_\"+str(idx),\n",
    "              xlabel=\"True Log Signal Intensity\",\n",
    "              ylabel=\"Pred. Score\",\n",
    "              path='comparison_figs/'+target+'/de_novo/weeder/')\n",
    "\n",
    "    sample_sums = []\n",
    "    sample_maxs = []\n",
    "    for seq in calibration_samples:\n",
    "        sample_sums.append(get_PWM_sum_score(seq, pwm))\n",
    "        sample_maxs.append(get_PWM_max_score(seq, pwm))\n",
    "    sample_sums = np.array(sample_sums)\n",
    "    sample_maxs = np.array(sample_maxs)\n",
    "    lr1 = LinearRegression()\n",
    "    calibration_func1 = lr1(sample_sums, sample_labels)\n",
    "    yvals_sum = calibration_func1(yvals_sum)\n",
    "    lr2 = LinearRegression()\n",
    "    calibration_func2 = lr2(sample_maxs, sample_labels)\n",
    "    yvals_max = calibration_func2(yvals_max)\n",
    "    plot_and_save(all_xvals, yvals_sum, \"weeder_sum_\"+str(idx),\n",
    "                  xlabel=\"True Log Signal Intensity\",\n",
    "                  ylabel=\"Pred. Log Signal Intensity\",\n",
    "                  path='comparison_figs/'+target+'/calibrated/weeder/',\n",
    "                  same_scale=True)\n",
    "    residuals = all_xvals - yvals_sum  # residuals are y - yhat\n",
    "    plot_and_save(yvals_sum, residuals, \"sum_residuals_\"+str(idx),\n",
    "                  xlabel=\"Predictions\",\n",
    "                  ylabel=\"Residuals\",\n",
    "                  path='comparison_figs/'+target+'/calibrated/weeder/')\n",
    "    plot_and_save(all_xvals, yvals_max, \"weeder_max_\"+str(idx),\n",
    "                  xlabel=\"True Log Signal Intensity\",\n",
    "                  ylabel=\"Pred. Log Signal Intensity\",\n",
    "                  path='comparison_figs/'+target+'/calibrated/weeder/',\n",
    "                  same_scale=True)\n",
    "    residuals = all_xvals - yvals_max  # residuals are y - yhat\n",
    "    plot_and_save(yvals_max, residuals, \"max_residuals_\"+str(idx),\n",
    "                  xlabel=\"Predictions\",\n",
    "                  ylabel=\"Residuals\",\n",
    "                  path='comparison_figs/'+target+'/calibrated/weeder/')"
   ]
  },
  {
   "cell_type": "code",
   "execution_count": 11,
   "metadata": {},
   "outputs": [
    {
     "name": "stderr",
     "output_type": "stream",
     "text": [
      "/users/amr1/miniconda3/envs/basepair/lib/python3.6/site-packages/ipykernel/__main__.py:27: RuntimeWarning: More than 20 figures have been opened. Figures created through the pyplot interface (`matplotlib.pyplot.figure`) are retained until explicitly closed and may consume too much memory. (To control this warning, see the rcParam `figure.max_open_warning`).\n",
      "/users/amr1/miniconda3/envs/basepair/lib/python3.6/site-packages/ipykernel/__main__.py:27: RuntimeWarning: More than 20 figures have been opened. Figures created through the pyplot interface (`matplotlib.pyplot.figure`) are retained until explicitly closed and may consume too much memory. (To control this warning, see the rcParam `figure.max_open_warning`).\n",
      "/users/amr1/miniconda3/envs/basepair/lib/python3.6/site-packages/ipykernel/__main__.py:27: RuntimeWarning: More than 20 figures have been opened. Figures created through the pyplot interface (`matplotlib.pyplot.figure`) are retained until explicitly closed and may consume too much memory. (To control this warning, see the rcParam `figure.max_open_warning`).\n",
      "/users/amr1/miniconda3/envs/basepair/lib/python3.6/site-packages/ipykernel/__main__.py:27: RuntimeWarning: More than 20 figures have been opened. Figures created through the pyplot interface (`matplotlib.pyplot.figure`) are retained until explicitly closed and may consume too much memory. (To control this warning, see the rcParam `figure.max_open_warning`).\n",
      "/users/amr1/miniconda3/envs/basepair/lib/python3.6/site-packages/ipykernel/__main__.py:27: RuntimeWarning: More than 20 figures have been opened. Figures created through the pyplot interface (`matplotlib.pyplot.figure`) are retained until explicitly closed and may consume too much memory. (To control this warning, see the rcParam `figure.max_open_warning`).\n",
      "/users/amr1/miniconda3/envs/basepair/lib/python3.6/site-packages/ipykernel/__main__.py:27: RuntimeWarning: More than 20 figures have been opened. Figures created through the pyplot interface (`matplotlib.pyplot.figure`) are retained until explicitly closed and may consume too much memory. (To control this warning, see the rcParam `figure.max_open_warning`).\n",
      "/users/amr1/miniconda3/envs/basepair/lib/python3.6/site-packages/ipykernel/__main__.py:27: RuntimeWarning: More than 20 figures have been opened. Figures created through the pyplot interface (`matplotlib.pyplot.figure`) are retained until explicitly closed and may consume too much memory. (To control this warning, see the rcParam `figure.max_open_warning`).\n",
      "/users/amr1/miniconda3/envs/basepair/lib/python3.6/site-packages/ipykernel/__main__.py:27: RuntimeWarning: More than 20 figures have been opened. Figures created through the pyplot interface (`matplotlib.pyplot.figure`) are retained until explicitly closed and may consume too much memory. (To control this warning, see the rcParam `figure.max_open_warning`).\n",
      "/users/amr1/miniconda3/envs/basepair/lib/python3.6/site-packages/ipykernel/__main__.py:27: RuntimeWarning: More than 20 figures have been opened. Figures created through the pyplot interface (`matplotlib.pyplot.figure`) are retained until explicitly closed and may consume too much memory. (To control this warning, see the rcParam `figure.max_open_warning`).\n",
      "/users/amr1/miniconda3/envs/basepair/lib/python3.6/site-packages/ipykernel/__main__.py:27: RuntimeWarning: More than 20 figures have been opened. Figures created through the pyplot interface (`matplotlib.pyplot.figure`) are retained until explicitly closed and may consume too much memory. (To control this warning, see the rcParam `figure.max_open_warning`).\n",
      "/users/amr1/miniconda3/envs/basepair/lib/python3.6/site-packages/ipykernel/__main__.py:27: RuntimeWarning: More than 20 figures have been opened. Figures created through the pyplot interface (`matplotlib.pyplot.figure`) are retained until explicitly closed and may consume too much memory. (To control this warning, see the rcParam `figure.max_open_warning`).\n",
      "/users/amr1/miniconda3/envs/basepair/lib/python3.6/site-packages/ipykernel/__main__.py:27: RuntimeWarning: More than 20 figures have been opened. Figures created through the pyplot interface (`matplotlib.pyplot.figure`) are retained until explicitly closed and may consume too much memory. (To control this warning, see the rcParam `figure.max_open_warning`).\n",
      "/users/amr1/miniconda3/envs/basepair/lib/python3.6/site-packages/ipykernel/__main__.py:27: RuntimeWarning: More than 20 figures have been opened. Figures created through the pyplot interface (`matplotlib.pyplot.figure`) are retained until explicitly closed and may consume too much memory. (To control this warning, see the rcParam `figure.max_open_warning`).\n",
      "/users/amr1/miniconda3/envs/basepair/lib/python3.6/site-packages/ipykernel/__main__.py:27: RuntimeWarning: More than 20 figures have been opened. Figures created through the pyplot interface (`matplotlib.pyplot.figure`) are retained until explicitly closed and may consume too much memory. (To control this warning, see the rcParam `figure.max_open_warning`).\n",
      "/users/amr1/miniconda3/envs/basepair/lib/python3.6/site-packages/ipykernel/__main__.py:27: RuntimeWarning: More than 20 figures have been opened. Figures created through the pyplot interface (`matplotlib.pyplot.figure`) are retained until explicitly closed and may consume too much memory. (To control this warning, see the rcParam `figure.max_open_warning`).\n",
      "/users/amr1/miniconda3/envs/basepair/lib/python3.6/site-packages/ipykernel/__main__.py:27: RuntimeWarning: More than 20 figures have been opened. Figures created through the pyplot interface (`matplotlib.pyplot.figure`) are retained until explicitly closed and may consume too much memory. (To control this warning, see the rcParam `figure.max_open_warning`).\n",
      "/users/amr1/miniconda3/envs/basepair/lib/python3.6/site-packages/ipykernel/__main__.py:27: RuntimeWarning: More than 20 figures have been opened. Figures created through the pyplot interface (`matplotlib.pyplot.figure`) are retained until explicitly closed and may consume too much memory. (To control this warning, see the rcParam `figure.max_open_warning`).\n",
      "/users/amr1/miniconda3/envs/basepair/lib/python3.6/site-packages/ipykernel/__main__.py:27: RuntimeWarning: More than 20 figures have been opened. Figures created through the pyplot interface (`matplotlib.pyplot.figure`) are retained until explicitly closed and may consume too much memory. (To control this warning, see the rcParam `figure.max_open_warning`).\n",
      "/users/amr1/miniconda3/envs/basepair/lib/python3.6/site-packages/ipykernel/__main__.py:27: RuntimeWarning: More than 20 figures have been opened. Figures created through the pyplot interface (`matplotlib.pyplot.figure`) are retained until explicitly closed and may consume too much memory. (To control this warning, see the rcParam `figure.max_open_warning`).\n",
      "/users/amr1/miniconda3/envs/basepair/lib/python3.6/site-packages/ipykernel/__main__.py:27: RuntimeWarning: More than 20 figures have been opened. Figures created through the pyplot interface (`matplotlib.pyplot.figure`) are retained until explicitly closed and may consume too much memory. (To control this warning, see the rcParam `figure.max_open_warning`).\n",
      "/users/amr1/miniconda3/envs/basepair/lib/python3.6/site-packages/ipykernel/__main__.py:27: RuntimeWarning: More than 20 figures have been opened. Figures created through the pyplot interface (`matplotlib.pyplot.figure`) are retained until explicitly closed and may consume too much memory. (To control this warning, see the rcParam `figure.max_open_warning`).\n",
      "/users/amr1/miniconda3/envs/basepair/lib/python3.6/site-packages/ipykernel/__main__.py:27: RuntimeWarning: More than 20 figures have been opened. Figures created through the pyplot interface (`matplotlib.pyplot.figure`) are retained until explicitly closed and may consume too much memory. (To control this warning, see the rcParam `figure.max_open_warning`).\n",
      "/users/amr1/miniconda3/envs/basepair/lib/python3.6/site-packages/ipykernel/__main__.py:27: RuntimeWarning: More than 20 figures have been opened. Figures created through the pyplot interface (`matplotlib.pyplot.figure`) are retained until explicitly closed and may consume too much memory. (To control this warning, see the rcParam `figure.max_open_warning`).\n",
      "/users/amr1/miniconda3/envs/basepair/lib/python3.6/site-packages/ipykernel/__main__.py:27: RuntimeWarning: More than 20 figures have been opened. Figures created through the pyplot interface (`matplotlib.pyplot.figure`) are retained until explicitly closed and may consume too much memory. (To control this warning, see the rcParam `figure.max_open_warning`).\n",
      "/users/amr1/miniconda3/envs/basepair/lib/python3.6/site-packages/ipykernel/__main__.py:27: RuntimeWarning: More than 20 figures have been opened. Figures created through the pyplot interface (`matplotlib.pyplot.figure`) are retained until explicitly closed and may consume too much memory. (To control this warning, see the rcParam `figure.max_open_warning`).\n",
      "/users/amr1/miniconda3/envs/basepair/lib/python3.6/site-packages/ipykernel/__main__.py:27: RuntimeWarning: More than 20 figures have been opened. Figures created through the pyplot interface (`matplotlib.pyplot.figure`) are retained until explicitly closed and may consume too much memory. (To control this warning, see the rcParam `figure.max_open_warning`).\n",
      "/users/amr1/miniconda3/envs/basepair/lib/python3.6/site-packages/ipykernel/__main__.py:27: RuntimeWarning: More than 20 figures have been opened. Figures created through the pyplot interface (`matplotlib.pyplot.figure`) are retained until explicitly closed and may consume too much memory. (To control this warning, see the rcParam `figure.max_open_warning`).\n",
      "/users/amr1/miniconda3/envs/basepair/lib/python3.6/site-packages/ipykernel/__main__.py:27: RuntimeWarning: More than 20 figures have been opened. Figures created through the pyplot interface (`matplotlib.pyplot.figure`) are retained until explicitly closed and may consume too much memory. (To control this warning, see the rcParam `figure.max_open_warning`).\n",
      "/users/amr1/miniconda3/envs/basepair/lib/python3.6/site-packages/ipykernel/__main__.py:27: RuntimeWarning: More than 20 figures have been opened. Figures created through the pyplot interface (`matplotlib.pyplot.figure`) are retained until explicitly closed and may consume too much memory. (To control this warning, see the rcParam `figure.max_open_warning`).\n"
     ]
    },
    {
     "data": {
      "text/plain": [
       "<Figure size 2400x1500 with 0 Axes>"
      ]
     },
     "metadata": {},
     "output_type": "display_data"
    },
    {
     "data": {
      "text/plain": [
       "<Figure size 2400x1500 with 0 Axes>"
      ]
     },
     "metadata": {},
     "output_type": "display_data"
    },
    {
     "data": {
      "text/plain": [
       "<Figure size 2400x1500 with 0 Axes>"
      ]
     },
     "metadata": {},
     "output_type": "display_data"
    },
    {
     "data": {
      "text/plain": [
       "<Figure size 2400x1500 with 0 Axes>"
      ]
     },
     "metadata": {},
     "output_type": "display_data"
    },
    {
     "data": {
      "text/plain": [
       "<Figure size 2400x1500 with 0 Axes>"
      ]
     },
     "metadata": {},
     "output_type": "display_data"
    },
    {
     "data": {
      "text/plain": [
       "<Figure size 2400x1500 with 0 Axes>"
      ]
     },
     "metadata": {},
     "output_type": "display_data"
    },
    {
     "data": {
      "text/plain": [
       "<Figure size 2400x1500 with 0 Axes>"
      ]
     },
     "metadata": {},
     "output_type": "display_data"
    },
    {
     "data": {
      "text/plain": [
       "<Figure size 432x288 with 0 Axes>"
      ]
     },
     "metadata": {},
     "output_type": "display_data"
    },
    {
     "data": {
      "text/plain": [
       "<Figure size 432x288 with 0 Axes>"
      ]
     },
     "metadata": {},
     "output_type": "display_data"
    },
    {
     "data": {
      "text/plain": [
       "<Figure size 432x288 with 0 Axes>"
      ]
     },
     "metadata": {},
     "output_type": "display_data"
    },
    {
     "data": {
      "text/plain": [
       "<Figure size 432x288 with 0 Axes>"
      ]
     },
     "metadata": {},
     "output_type": "display_data"
    },
    {
     "data": {
      "text/plain": [
       "<Figure size 432x288 with 0 Axes>"
      ]
     },
     "metadata": {},
     "output_type": "display_data"
    },
    {
     "data": {
      "text/plain": [
       "<Figure size 432x288 with 0 Axes>"
      ]
     },
     "metadata": {},
     "output_type": "display_data"
    },
    {
     "data": {
      "text/plain": [
       "<Figure size 432x288 with 0 Axes>"
      ]
     },
     "metadata": {},
     "output_type": "display_data"
    },
    {
     "data": {
      "text/plain": [
       "<Figure size 432x288 with 0 Axes>"
      ]
     },
     "metadata": {},
     "output_type": "display_data"
    },
    {
     "data": {
      "text/plain": [
       "<Figure size 432x288 with 0 Axes>"
      ]
     },
     "metadata": {},
     "output_type": "display_data"
    },
    {
     "data": {
      "text/plain": [
       "<Figure size 432x288 with 0 Axes>"
      ]
     },
     "metadata": {},
     "output_type": "display_data"
    },
    {
     "data": {
      "text/plain": [
       "<Figure size 432x288 with 0 Axes>"
      ]
     },
     "metadata": {},
     "output_type": "display_data"
    },
    {
     "data": {
      "text/plain": [
       "<Figure size 432x288 with 0 Axes>"
      ]
     },
     "metadata": {},
     "output_type": "display_data"
    },
    {
     "data": {
      "text/plain": [
       "<Figure size 432x288 with 0 Axes>"
      ]
     },
     "metadata": {},
     "output_type": "display_data"
    },
    {
     "data": {
      "text/plain": [
       "<Figure size 432x288 with 0 Axes>"
      ]
     },
     "metadata": {},
     "output_type": "display_data"
    },
    {
     "data": {
      "text/plain": [
       "<Figure size 432x288 with 0 Axes>"
      ]
     },
     "metadata": {},
     "output_type": "display_data"
    },
    {
     "data": {
      "text/plain": [
       "<Figure size 432x288 with 0 Axes>"
      ]
     },
     "metadata": {},
     "output_type": "display_data"
    },
    {
     "data": {
      "text/plain": [
       "<Figure size 432x288 with 0 Axes>"
      ]
     },
     "metadata": {},
     "output_type": "display_data"
    },
    {
     "data": {
      "text/plain": [
       "<Figure size 432x288 with 0 Axes>"
      ]
     },
     "metadata": {},
     "output_type": "display_data"
    },
    {
     "data": {
      "text/plain": [
       "<Figure size 432x288 with 0 Axes>"
      ]
     },
     "metadata": {},
     "output_type": "display_data"
    },
    {
     "data": {
      "text/plain": [
       "<Figure size 432x288 with 0 Axes>"
      ]
     },
     "metadata": {},
     "output_type": "display_data"
    },
    {
     "data": {
      "text/plain": [
       "<Figure size 432x288 with 0 Axes>"
      ]
     },
     "metadata": {},
     "output_type": "display_data"
    },
    {
     "data": {
      "text/plain": [
       "<Figure size 432x288 with 0 Axes>"
      ]
     },
     "metadata": {},
     "output_type": "display_data"
    },
    {
     "data": {
      "text/plain": [
       "<Figure size 432x288 with 0 Axes>"
      ]
     },
     "metadata": {},
     "output_type": "display_data"
    },
    {
     "data": {
      "text/plain": [
       "<Figure size 432x288 with 0 Axes>"
      ]
     },
     "metadata": {},
     "output_type": "display_data"
    },
    {
     "data": {
      "text/plain": [
       "<Figure size 432x288 with 0 Axes>"
      ]
     },
     "metadata": {},
     "output_type": "display_data"
    },
    {
     "data": {
      "text/plain": [
       "<Figure size 432x288 with 0 Axes>"
      ]
     },
     "metadata": {},
     "output_type": "display_data"
    },
    {
     "data": {
      "text/plain": [
       "<Figure size 432x288 with 0 Axes>"
      ]
     },
     "metadata": {},
     "output_type": "display_data"
    },
    {
     "data": {
      "text/plain": [
       "<Figure size 432x288 with 0 Axes>"
      ]
     },
     "metadata": {},
     "output_type": "display_data"
    },
    {
     "data": {
      "text/plain": [
       "<Figure size 432x288 with 0 Axes>"
      ]
     },
     "metadata": {},
     "output_type": "display_data"
    },
    {
     "data": {
      "text/plain": [
       "<Figure size 432x288 with 0 Axes>"
      ]
     },
     "metadata": {},
     "output_type": "display_data"
    },
    {
     "data": {
      "text/plain": [
       "<Figure size 432x288 with 0 Axes>"
      ]
     },
     "metadata": {},
     "output_type": "display_data"
    },
    {
     "data": {
      "text/plain": [
       "<Figure size 432x288 with 0 Axes>"
      ]
     },
     "metadata": {},
     "output_type": "display_data"
    },
    {
     "data": {
      "text/plain": [
       "<Figure size 432x288 with 0 Axes>"
      ]
     },
     "metadata": {},
     "output_type": "display_data"
    },
    {
     "data": {
      "text/plain": [
       "<Figure size 432x288 with 0 Axes>"
      ]
     },
     "metadata": {},
     "output_type": "display_data"
    },
    {
     "data": {
      "text/plain": [
       "<Figure size 432x288 with 0 Axes>"
      ]
     },
     "metadata": {},
     "output_type": "display_data"
    },
    {
     "data": {
      "text/plain": [
       "<Figure size 432x288 with 0 Axes>"
      ]
     },
     "metadata": {},
     "output_type": "display_data"
    },
    {
     "data": {
      "text/plain": [
       "<Figure size 432x288 with 0 Axes>"
      ]
     },
     "metadata": {},
     "output_type": "display_data"
    },
    {
     "data": {
      "text/plain": [
       "<Figure size 432x288 with 0 Axes>"
      ]
     },
     "metadata": {},
     "output_type": "display_data"
    },
    {
     "data": {
      "text/plain": [
       "<Figure size 432x288 with 0 Axes>"
      ]
     },
     "metadata": {},
     "output_type": "display_data"
    },
    {
     "data": {
      "text/plain": [
       "<Figure size 432x288 with 0 Axes>"
      ]
     },
     "metadata": {},
     "output_type": "display_data"
    },
    {
     "data": {
      "text/plain": [
       "<Figure size 432x288 with 0 Axes>"
      ]
     },
     "metadata": {},
     "output_type": "display_data"
    },
    {
     "data": {
      "text/plain": [
       "<Figure size 432x288 with 0 Axes>"
      ]
     },
     "metadata": {},
     "output_type": "display_data"
    }
   ],
   "source": [
    "# STREME\n",
    "if not os.path.exists(\"comparison_figs/\"+target+\"/de_novo/streme\"):\n",
    "    os.makedirs(\"comparison_figs/\"+target+\"/de_novo/streme\")\n",
    "if not os.path.exists(\"comparison_figs/\"+target+\"/calibrated/streme\"):\n",
    "    os.makedirs(\"comparison_figs/\"+target+\"/calibrated/streme\")\n",
    "\n",
    "lite_dir = \"/oak/stanford/groups/akundaje/amr1/pho4_final/lite_data/in-vivo/\"\n",
    "filepath = lite_dir+\"pho4_nexus/streme_out/streme.txt\"\n",
    "reading = False\n",
    "PWMs = []\n",
    "for idx, line in enumerate(open(filepath)):\n",
    "    if \"letter-probability\" in line:\n",
    "        reading = True\n",
    "        width = int(line.rstrip().split(' ')[5])\n",
    "        lines = []\n",
    "        continue\n",
    "    if reading:\n",
    "        lines.append(line.rstrip().split(' '))\n",
    "        width -= 1\n",
    "        if width == 0:\n",
    "            reading = False\n",
    "            prob_mat = np.array(lines)[:,1:].astype('float')\n",
    "            pwm = np.log2((prob_mat/0.25)+1e-4)\n",
    "            centered_pwm = np.array([i-np.mean(i) for i in pwm])\n",
    "            matplotlib.rc('font', **font)\n",
    "            fig = plt.figure(figsize=(8,5), dpi=300)\n",
    "            ax = fig.add_subplot(111)\n",
    "            viz_sequence.plot_weights_given_ax(ax, centered_pwm,\n",
    "                                                height_padding_factor=0.2,\n",
    "                                                length_padding=1.0,\n",
    "                                                subticks_frequency=1.0,\n",
    "                                                highlight={})\n",
    "            fig.savefig('comparison_figs/'+target+'/de_novo/streme/pwm_'+str(len(PWMs))+'.png', dpi=300)  \n",
    "            plt.clf()\n",
    "            PWMs.append(pwm)\n",
    "            if len(PWMs) == 10: break\n",
    "\n",
    "for idx, pwm in enumerate(PWMs):\n",
    "    yvals_sum = []\n",
    "    yvals_max = []\n",
    "    for seq in seqs:\n",
    "        yvals_sum.append(get_PWM_sum_score(seq, pwm))\n",
    "        yvals_max.append(get_PWM_max_score(seq, pwm))\n",
    "    yvals_sum = np.array(yvals_sum)\n",
    "    yvals_max = np.array(yvals_max)\n",
    "    plot_and_save(all_xvals, yvals_sum, \"streme_sum_\"+str(idx),\n",
    "              xlabel=\"True Log Signal Intensity\",\n",
    "              ylabel=\"Pred. Score\",\n",
    "              path='comparison_figs/'+target+'/de_novo/streme/')\n",
    "    plot_and_save(all_xvals, yvals_max, \"streme_max_\"+str(idx),\n",
    "              xlabel=\"True Log Signal Intensity\",\n",
    "              ylabel=\"Pred. Score\",\n",
    "              path='comparison_figs/'+target+'/de_novo/streme/')\n",
    "\n",
    "    sample_sums = []\n",
    "    sample_maxs = []\n",
    "    for seq in calibration_samples:\n",
    "        sample_sums.append(get_PWM_sum_score(seq, pwm))\n",
    "        sample_maxs.append(get_PWM_max_score(seq, pwm))\n",
    "    sample_sums = np.array(sample_sums)\n",
    "    sample_maxs = np.array(sample_maxs)\n",
    "    lr1 = LinearRegression()\n",
    "    calibration_func1 = lr1(sample_sums, sample_labels)\n",
    "    yvals_sum = calibration_func1(yvals_sum)\n",
    "    lr2 = LinearRegression()\n",
    "    calibration_func2 = lr2(sample_maxs, sample_labels)\n",
    "    yvals_max = calibration_func2(yvals_max)\n",
    "    plot_and_save(all_xvals, yvals_sum, \"streme_sum_\"+str(idx),\n",
    "                  xlabel=\"True Log Signal Intensity\",\n",
    "                  ylabel=\"Pred. Log Signal Intensity\",\n",
    "                  path='comparison_figs/'+target+'/calibrated/streme/',\n",
    "                  same_scale=True)\n",
    "    residuals = all_xvals - yvals_sum  # residuals are y - yhat\n",
    "    plot_and_save(yvals_sum, residuals, \"sum_residuals_\"+str(idx),\n",
    "                  xlabel=\"Predictions\",\n",
    "                  ylabel=\"Residuals\",\n",
    "                  path='comparison_figs/'+target+'/calibrated/streme/')\n",
    "    plot_and_save(all_xvals, yvals_max, \"streme_max_\"+str(idx),\n",
    "                  xlabel=\"True Log Signal Intensity\",\n",
    "                  ylabel=\"Pred. Log Signal Intensity\",\n",
    "                  path='comparison_figs/'+target+'/calibrated/streme/',\n",
    "                  same_scale=True)\n",
    "    residuals = all_xvals - yvals_max  # residuals are y - yhat\n",
    "    plot_and_save(yvals_max, residuals, \"max_residuals_\"+str(idx),\n",
    "                  xlabel=\"Predictions\",\n",
    "                  ylabel=\"Residuals\",\n",
    "                  path='comparison_figs/'+target+'/calibrated/streme/')"
   ]
  },
  {
   "cell_type": "code",
   "execution_count": 12,
   "metadata": {},
   "outputs": [
    {
     "data": {
      "image/png": "[encoded data removed]",
      "text/plain": [
       "<Figure size 432x288 with 1 Axes>"
      ]
     },
     "metadata": {},
     "output_type": "display_data"
    }
   ],
   "source": [
    "# Overall\n",
    "results_dir = \"comparison_figs/\"+target+\"/calibrated/\"\n",
    "w = 0.8    # bar width\n",
    "x = [1, 2, 3, 4, 5]     # x-coordinates of bars\n",
    "\n",
    "criteria = \"rmse\"\n",
    "meta = {}\n",
    "weeder = []\n",
    "weeder_x = []\n",
    "meta[\"best_weeder\"] = 10^5\n",
    "for filename in os.listdir(results_dir+\"weeder/\"):\n",
    "    if \"weeder_max_\" in filename and filename.endswith(\"metadata.json\"):\n",
    "        data = json.load(open(results_dir+\"weeder/\"+filename))\n",
    "        weeder.append(float(data[criteria]))\n",
    "        weeder_x.append(1 + np.random.random() * (w/2) - (w/4))   # distribute coords randomly across half width of bar\n",
    "        if weeder[-1] <= meta[\"best_weeder\"]:\n",
    "            meta[\"best_weeder\"] = weeder[-1]\n",
    "            meta[\"best_weeder_name\"] = filename\n",
    "        if filename == \"weeder_max_0_metadata.json\":\n",
    "            top_weeder_x = weeder_x[-1]\n",
    "            top_weeder_y = weeder[-1]\n",
    "streme = []\n",
    "streme_x = []\n",
    "meta[\"best_streme\"] = 10^5\n",
    "for filename in os.listdir(results_dir+\"streme/\"):\n",
    "    if \"streme_max_\" in filename and filename.endswith(\"metadata.json\"):\n",
    "        data = json.load(open(results_dir+\"streme/\"+filename))\n",
    "        streme.append(float(data[criteria]))\n",
    "        streme_x.append(2 + np.random.random() * (w/2) - (w/4))\n",
    "        if streme[-1] <= meta[\"best_streme\"]:\n",
    "            meta[\"best_streme\"] = streme[-1]\n",
    "            meta[\"best_streme_name\"] = filename\n",
    "        if filename == \"streme_max_0_metadata.json\":\n",
    "            top_streme_x = streme_x[-1]\n",
    "            top_streme_y = streme[-1]\n",
    "modisco = []\n",
    "modisco_x = []\n",
    "meta[\"best_modisco\"] = 10^5\n",
    "for filename in os.listdir(results_dir+\"modisco/\"):\n",
    "    if \"modisco_max_\" in filename and filename.endswith(\"metadata.json\"):\n",
    "        data = json.load(open(results_dir+\"modisco/\"+filename))\n",
    "        modisco.append(float(data[criteria]))\n",
    "        modisco_x.append(3 + np.random.random() * (w/2) - (w/4))\n",
    "        if modisco[-1] <= meta[\"best_modisco\"]:\n",
    "            meta[\"best_modisco\"] = modisco[-1]\n",
    "            meta[\"best_modisco_name\"] = filename\n",
    "        if filename == \"modisco_max_0_metadata.json\":\n",
    "            top_modisco_x = modisco_x[-1]\n",
    "            top_modisco_y = modisco[-1]\n",
    "affinity_distill = []\n",
    "data = json.load(open(results_dir+\"affinity_distill/affinity_distill_metadata.json\"))\n",
    "affinity_distill.append(float(data[criteria]))\n",
    "meta[\"affinity_distill\"] = affinity_distill[0]\n",
    "affinity_distill_augmented = []\n",
    "data = json.load(open(results_dir+\"affinity_distill_augmented/affinity_distill_augmented_metadata.json\"))\n",
    "affinity_distill_augmented.append(float(data[criteria]))\n",
    "meta[\"affinity_distill_augmented\"] = affinity_distill_augmented[0]\n",
    "\n",
    "y = [weeder, streme, modisco, affinity_distill, affinity_distill_augmented]\n",
    "coords_x = [weeder_x, streme_x, modisco_x]\n",
    "top_x = [top_weeder_x, top_streme_x, top_modisco_x]\n",
    "top_y = [top_weeder_y, top_streme_y, top_modisco_y]\n",
    "fig, ax = plt.subplots()\n",
    "ax.bar(x, height=[np.mean(yi) for yi in y],\n",
    "       yerr=[np.std(yi) for yi in y],    # error bars\n",
    "       capsize=12, # error bar cap width in points\n",
    "       width=w,    # bar width\n",
    "       tick_label=[\"Weeder2\", \"STREME\", \"MoDISco\", \"AD\", \"AD_aug\"],\n",
    "       color=(0,0,0,0),  # face color transparent\n",
    "       edgecolor='#1f77b4')\n",
    "for i in range(len(coords_x)):\n",
    "    ax.scatter(coords_x[i], y[i], color='dimgrey')\n",
    "    ax.annotate(\"top\", (top_x[i], top_y[i]))\n",
    "ax.scatter(top_x, top_y, color='red')\n",
    "with open(results_dir+criteria+'.json', 'w') as fp: json.dump(meta, fp)\n",
    "fig.savefig(results_dir+criteria+'.png', dpi=300, format='png')"
   ]
  },
  {
   "cell_type": "code",
   "execution_count": 13,
   "metadata": {},
   "outputs": [
    {
     "data": {
      "image/png": "[encoded data removed]",
      "text/plain": [
       "<Figure size 432x288 with 1 Axes>"
      ]
     },
     "metadata": {},
     "output_type": "display_data"
    },
    {
     "data": {
      "image/png": "[encoded data removed]",
      "text/plain": [
       "<Figure size 432x288 with 1 Axes>"
      ]
     },
     "metadata": {},
     "output_type": "display_data"
    }
   ],
   "source": [
    "for criteria in [\"spearman\", \"pearson\"]:\n",
    "    meta = {}\n",
    "    weeder = []\n",
    "    weeder_x = []\n",
    "    meta[\"best_weeder\"] = -100\n",
    "    for filename in os.listdir(results_dir+\"weeder/\"):\n",
    "        if \"weeder_max_\" in filename and filename.endswith(\"metadata.json\"):\n",
    "            data = json.load(open(results_dir+\"weeder/\"+filename))\n",
    "            weeder.append(float(data[criteria])*100)\n",
    "            weeder_x.append(1 + np.random.random() * (w/2) - (w/4))   # distribute coords randomly across half width of bar\n",
    "            if weeder[-1] >= meta[\"best_weeder\"]:\n",
    "                meta[\"best_weeder\"] = weeder[-1]\n",
    "                meta[\"best_weeder_name\"] = filename\n",
    "            if filename == \"weeder_max_0_metadata.json\":\n",
    "                top_weeder_x = weeder_x[-1]\n",
    "                top_weeder_y = weeder[-1]\n",
    "    streme = []\n",
    "    streme_x = []\n",
    "    meta[\"best_streme\"] = -100\n",
    "    for filename in os.listdir(results_dir+\"streme/\"):\n",
    "        if \"streme_max_\" in filename and filename.endswith(\"metadata.json\"):\n",
    "            data = json.load(open(results_dir+\"streme/\"+filename))\n",
    "            streme.append(float(data[criteria])*100)\n",
    "            streme_x.append(2 + np.random.random() * (w/2) - (w/4))\n",
    "            if streme[-1] >= meta[\"best_streme\"]:\n",
    "                meta[\"best_streme\"] = streme[-1]\n",
    "                meta[\"best_streme_name\"] = filename\n",
    "            if filename == \"streme_max_0_metadata.json\":\n",
    "                top_streme_x = streme_x[-1]\n",
    "                top_streme_y = streme[-1]\n",
    "    modisco = []\n",
    "    modisco_x = []\n",
    "    meta[\"best_modisco\"] = -100\n",
    "    for filename in os.listdir(results_dir+\"modisco/\"):\n",
    "        if \"modisco_max_\" in filename and filename.endswith(\"metadata.json\"):\n",
    "            data = json.load(open(results_dir+\"modisco/\"+filename))\n",
    "            modisco.append(float(data[criteria])*100)\n",
    "            modisco_x.append(3 + np.random.random() * (w/2) - (w/4))\n",
    "            if modisco[-1] >= meta[\"best_modisco\"]:\n",
    "                meta[\"best_modisco\"] = modisco[-1]\n",
    "                meta[\"best_modisco_name\"] = filename\n",
    "            if filename == \"modisco_max_0_metadata.json\":\n",
    "                top_modisco_x = modisco_x[-1]\n",
    "                top_modisco_y = modisco[-1]\n",
    "    affinity_distill = []\n",
    "    data = json.load(open(results_dir+\"affinity_distill/affinity_distill_metadata.json\"))\n",
    "    affinity_distill.append(float(data[criteria])*100)\n",
    "    meta[\"affinity_distill\"] = affinity_distill[0]\n",
    "    affinity_distill_augmented = []\n",
    "    data = json.load(open(results_dir+\"affinity_distill_augmented/affinity_distill_augmented_metadata.json\"))\n",
    "    affinity_distill_augmented.append(float(data[criteria])*100)\n",
    "    meta[\"affinity_distill_augmented\"] = affinity_distill_augmented[0]\n",
    "\n",
    "    y = [weeder, streme, modisco, affinity_distill, affinity_distill_augmented]\n",
    "    coords_x = [weeder_x, streme_x, modisco_x]\n",
    "    top_x = [top_weeder_x, top_streme_x, top_modisco_x]\n",
    "    top_y = [top_weeder_y, top_streme_y, top_modisco_y]\n",
    "    fig, ax = plt.subplots()\n",
    "    ax.bar(x,\n",
    "           height=[np.mean(yi) for yi in y],\n",
    "           yerr=[np.std(yi) for yi in y],    # error bars\n",
    "           capsize=12, # error bar cap width in points\n",
    "           width=w,    # bar width\n",
    "           tick_label=[\"Weeder2\", \"STREME\", \"MoDISco\", \"AD\", \"AD_aug\"],\n",
    "           color=(0,0,0,0),  # face color transparent\n",
    "           edgecolor='#1f77b4')\n",
    "    for i in range(len(coords_x)):\n",
    "        ax.scatter(coords_x[i], y[i], color='dimgrey')\n",
    "        ax.annotate(\"top\", (top_x[i], top_y[i]))\n",
    "    ax.set_ylim([0, 100])\n",
    "    ax.scatter(top_x, top_y, color='red')\n",
    "    with open(results_dir+criteria+'.json', 'w') as fp: json.dump(meta, fp)\n",
    "    fig.savefig(results_dir+criteria+'.png', dpi=300, format='png')"
   ]
  },
  {
   "cell_type": "markdown",
   "metadata": {},
   "source": [
    "## Dynamic range of standard model (before augmentation)"
   ]
  },
  {
   "cell_type": "code",
   "execution_count": 14,
   "metadata": {},
   "outputs": [
    {
     "data": {
      "text/plain": [
       "<Figure size 432x288 with 0 Axes>"
      ]
     },
     "metadata": {},
     "output_type": "display_data"
    }
   ],
   "source": [
    "bins = np.linspace(np.min(all_xvals), np.max(all_xvals), 20)\n",
    "sample_preds = []\n",
    "for seq in calibration_samples:\n",
    "    sample_preds.append(float(seqToDeltaLogCounts[seq]))\n",
    "sample_preds = np.array(sample_preds)\n",
    "pre_yvals = []\n",
    "for seq in seqs:\n",
    "    pre_yvals.append(float(seqToDeltaLogCounts[seq]))\n",
    "pre_yvals = np.array(pre_yvals)\n",
    "lr1 = LinearRegression()\n",
    "calibration_func1 = lr1(sample_preds, sample_labels)\n",
    "ad = calibration_func1(pre_yvals)\n",
    "yvals = ad\n",
    "\n",
    "metadata = {}\n",
    "metadata[\"Obs. mean\"] = np.mean(all_xvals)\n",
    "metadata[\"Obs. stddev\"] = np.std(all_xvals)\n",
    "metadata[\"Pred. mean\"] = np.mean(yvals)\n",
    "metadata[\"Pred. stddev\"] = np.std(yvals)\n",
    "plt.figure()\n",
    "matplotlib.rc('font', **font)\n",
    "plt.hist(all_xvals, bins, alpha=0.5, density=True, label='Observed')\n",
    "plt.hist(yvals, bins, alpha=0.5, density=True, label='Predicted')\n",
    "plt.legend()\n",
    "plt.title(\"AD Standard\")\n",
    "plt.savefig(results_dir+'standard_dynamic_range.png', dpi=300, format='png')\n",
    "with open(results_dir+'standard_dynamic_range_metadata.json', 'w') as fp: json.dump(metadata, fp)\n",
    "plt.clf()"
   ]
  },
  {
   "cell_type": "markdown",
   "metadata": {},
   "source": [
    "## Dynamic range of augmented model"
   ]
  },
  {
   "cell_type": "code",
   "execution_count": 15,
   "metadata": {},
   "outputs": [
    {
     "data": {
      "text/plain": [
       "<Figure size 432x288 with 0 Axes>"
      ]
     },
     "metadata": {},
     "output_type": "display_data"
    }
   ],
   "source": [
    "bins = np.linspace(np.min(all_xvals), np.max(all_xvals), 50)\n",
    "sample_preds = []\n",
    "for seq in calibration_samples:\n",
    "    sample_preds.append(float(seqToDeltaLogCounts_augmented[seq]))\n",
    "sample_preds = np.array(sample_preds)\n",
    "pre_yvals = []\n",
    "for seq in seqs:\n",
    "    pre_yvals.append(float(seqToDeltaLogCounts_augmented[seq]))\n",
    "pre_yvals = np.array(pre_yvals)\n",
    "lr1 = LinearRegression()\n",
    "calibration_func1 = lr1(sample_preds, sample_labels)\n",
    "ad_aug = calibration_func1(pre_yvals)\n",
    "yvals = ad_aug\n",
    "\n",
    "metadata = {}\n",
    "metadata[\"Obs. mean\"] = np.mean(all_xvals)\n",
    "metadata[\"Obs. stddev\"] = np.std(all_xvals)\n",
    "metadata[\"Pred. mean\"] = np.mean(yvals)\n",
    "metadata[\"Pred. stddev\"] = np.std(yvals)\n",
    "plt.figure()\n",
    "matplotlib.rc('font', **font)\n",
    "plt.hist(all_xvals, bins, alpha=0.5, density=True, label='Observed')\n",
    "plt.hist(yvals, bins, alpha=0.5, density=True, label='Predicted')\n",
    "plt.legend()\n",
    "plt.title(\"AD Augmented\")\n",
    "plt.savefig(results_dir+'augmented_dynamic_range.png', dpi=300, format='png')\n",
    "with open(results_dir+'augmented_dynamic_range_metadata.json', 'w') as fp: json.dump(metadata, fp)\n",
    "plt.clf()"
   ]
  },
  {
   "cell_type": "markdown",
   "metadata": {},
   "source": [
    "## overall"
   ]
  },
  {
   "cell_type": "code",
   "execution_count": 16,
   "metadata": {},
   "outputs": [
    {
     "data": {
      "image/png": "[encoded data removed]",
      "text/plain": [
       "<Figure size 432x288 with 1 Axes>"
      ]
     },
     "metadata": {},
     "output_type": "display_data"
    }
   ],
   "source": [
    "data = [ad, ad_aug, all_xvals]\n",
    "labels = ['AD', 'AD_aug', 'Observed']\n",
    "matplotlib.rc('font', **font)\n",
    "fig, ax = plt.subplots()\n",
    "bplot = ax.boxplot(data, patch_artist=True, labels=labels)\n",
    "colors = ['peachpuff', 'lightblue', 'lightgreen']\n",
    "for patch, color in zip(bplot['boxes'], colors):\n",
    "    patch.set_facecolor(color)\n",
    "ax.yaxis.grid(True)\n",
    "ax.set_ylabel(\"ddG\")\n",
    "plt.savefig(results_dir+'overall.png', dpi=300, format='png')"
   ]
  },
  {
   "cell_type": "code",
   "execution_count": 17,
   "metadata": {},
   "outputs": [
    {
     "data": {
      "image/png": "[encoded data removed]",
      "text/plain": [
       "<Figure size 432x288 with 1 Axes>"
      ]
     },
     "metadata": {},
     "output_type": "display_data"
    }
   ],
   "source": [
    "data = [ad, ad_aug]\n",
    "labels = ['AD', 'AD_aug']\n",
    "matplotlib.rc('font', **font)\n",
    "fig, ax = plt.subplots()\n",
    "bplot = ax.boxplot(data, patch_artist=True, labels=labels)\n",
    "colors = ['peachpuff', 'lightblue']\n",
    "for patch, color in zip(bplot['boxes'], colors):\n",
    "    patch.set_facecolor(color)\n",
    "ax.yaxis.grid(True)\n",
    "ax.set_ylabel(\"ddG\")\n",
    "plt.savefig(results_dir+'dr_diff.png', dpi=300, format='png')"
   ]
  }
 ],
 "metadata": {
  "kernelspec": {
   "display_name": "Python [conda env:basepair]",
   "language": "python",
   "name": "conda-env-basepair-py"
  },
  "language_info": {
   "codemirror_mode": {
    "name": "ipython",
    "version": 3
   },
   "file_extension": ".py",
   "mimetype": "text/x-python",
   "name": "python",
   "nbconvert_exporter": "python",
   "pygments_lexer": "ipython3",
   "version": "3.6.8"
  }
 },
 "nbformat": 4,
 "nbformat_minor": 4
}

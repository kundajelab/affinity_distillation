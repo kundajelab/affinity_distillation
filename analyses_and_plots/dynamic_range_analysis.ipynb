{
 "cells": [
  {
   "cell_type": "code",
   "execution_count": 1,
   "metadata": {},
   "outputs": [
    {
     "name": "stderr",
     "output_type": "stream",
     "text": [
      "TF-MoDISco is using the TensorFlow backend.\n",
      "/users/amr1/miniconda3/envs/basepair/lib/python3.6/site-packages/tensorflow/python/framework/dtypes.py:516: FutureWarning: Passing (type, 1) or '1type' as a synonym of type is deprecated; in a future version of numpy, it will be understood as (type, (1,)) / '(1,)type'.\n",
      "  _np_qint8 = np.dtype([(\"qint8\", np.int8, 1)])\n",
      "/users/amr1/miniconda3/envs/basepair/lib/python3.6/site-packages/tensorflow/python/framework/dtypes.py:517: FutureWarning: Passing (type, 1) or '1type' as a synonym of type is deprecated; in a future version of numpy, it will be understood as (type, (1,)) / '(1,)type'.\n",
      "  _np_quint8 = np.dtype([(\"quint8\", np.uint8, 1)])\n",
      "/users/amr1/miniconda3/envs/basepair/lib/python3.6/site-packages/tensorflow/python/framework/dtypes.py:518: FutureWarning: Passing (type, 1) or '1type' as a synonym of type is deprecated; in a future version of numpy, it will be understood as (type, (1,)) / '(1,)type'.\n",
      "  _np_qint16 = np.dtype([(\"qint16\", np.int16, 1)])\n",
      "/users/amr1/miniconda3/envs/basepair/lib/python3.6/site-packages/tensorflow/python/framework/dtypes.py:519: FutureWarning: Passing (type, 1) or '1type' as a synonym of type is deprecated; in a future version of numpy, it will be understood as (type, (1,)) / '(1,)type'.\n",
      "  _np_quint16 = np.dtype([(\"quint16\", np.uint16, 1)])\n",
      "/users/amr1/miniconda3/envs/basepair/lib/python3.6/site-packages/tensorflow/python/framework/dtypes.py:520: FutureWarning: Passing (type, 1) or '1type' as a synonym of type is deprecated; in a future version of numpy, it will be understood as (type, (1,)) / '(1,)type'.\n",
      "  _np_qint32 = np.dtype([(\"qint32\", np.int32, 1)])\n",
      "/users/amr1/miniconda3/envs/basepair/lib/python3.6/site-packages/tensorflow/python/framework/dtypes.py:525: FutureWarning: Passing (type, 1) or '1type' as a synonym of type is deprecated; in a future version of numpy, it will be understood as (type, (1,)) / '(1,)type'.\n",
      "  np_resource = np.dtype([(\"resource\", np.ubyte, 1)])\n",
      "/users/amr1/miniconda3/envs/basepair/lib/python3.6/site-packages/tensorboard/compat/tensorflow_stub/dtypes.py:541: FutureWarning: Passing (type, 1) or '1type' as a synonym of type is deprecated; in a future version of numpy, it will be understood as (type, (1,)) / '(1,)type'.\n",
      "  _np_qint8 = np.dtype([(\"qint8\", np.int8, 1)])\n",
      "/users/amr1/miniconda3/envs/basepair/lib/python3.6/site-packages/tensorboard/compat/tensorflow_stub/dtypes.py:542: FutureWarning: Passing (type, 1) or '1type' as a synonym of type is deprecated; in a future version of numpy, it will be understood as (type, (1,)) / '(1,)type'.\n",
      "  _np_quint8 = np.dtype([(\"quint8\", np.uint8, 1)])\n",
      "/users/amr1/miniconda3/envs/basepair/lib/python3.6/site-packages/tensorboard/compat/tensorflow_stub/dtypes.py:543: FutureWarning: Passing (type, 1) or '1type' as a synonym of type is deprecated; in a future version of numpy, it will be understood as (type, (1,)) / '(1,)type'.\n",
      "  _np_qint16 = np.dtype([(\"qint16\", np.int16, 1)])\n",
      "/users/amr1/miniconda3/envs/basepair/lib/python3.6/site-packages/tensorboard/compat/tensorflow_stub/dtypes.py:544: FutureWarning: Passing (type, 1) or '1type' as a synonym of type is deprecated; in a future version of numpy, it will be understood as (type, (1,)) / '(1,)type'.\n",
      "  _np_quint16 = np.dtype([(\"quint16\", np.uint16, 1)])\n",
      "/users/amr1/miniconda3/envs/basepair/lib/python3.6/site-packages/tensorboard/compat/tensorflow_stub/dtypes.py:545: FutureWarning: Passing (type, 1) or '1type' as a synonym of type is deprecated; in a future version of numpy, it will be understood as (type, (1,)) / '(1,)type'.\n",
      "  _np_qint32 = np.dtype([(\"qint32\", np.int32, 1)])\n",
      "/users/amr1/miniconda3/envs/basepair/lib/python3.6/site-packages/tensorboard/compat/tensorflow_stub/dtypes.py:550: FutureWarning: Passing (type, 1) or '1type' as a synonym of type is deprecated; in a future version of numpy, it will be understood as (type, (1,)) / '(1,)type'.\n",
      "  np_resource = np.dtype([(\"resource\", np.ubyte, 1)])\n"
     ]
    }
   ],
   "source": [
    "import os\n",
    "import re\n",
    "import json\n",
    "import gzip\n",
    "import codecs\n",
    "import math\n",
    "from math import log, ceil\n",
    "import numpy as np\n",
    "import modisco\n",
    "import modisco.tfmodisco_workflow.workflow\n",
    "from modisco.tfmodisco_workflow import workflow\n",
    "import h5py\n",
    "import pandas as pd\n",
    "import modisco.util\n",
    "from collections import Counter\n",
    "from modisco.visualization import viz_sequence\n",
    "import modisco.affinitymat.core\n",
    "import modisco.cluster.phenograph.core\n",
    "import modisco.cluster.phenograph.cluster\n",
    "import modisco.cluster.core\n",
    "import modisco.aggregator\n",
    "import matplotlib\n",
    "import matplotlib.pyplot as plt\n",
    "from sklearn.linear_model import LinearRegression as LR\n",
    "from sklearn.metrics import mean_squared_error\n",
    "from scipy.stats import spearmanr, pearsonr, gaussian_kde\n",
    "font = {'weight' : 'bold', 'size'   : 14}"
   ]
  },
  {
   "cell_type": "code",
   "execution_count": 2,
   "metadata": {},
   "outputs": [],
   "source": [
    "data_dir = \"/oak/stanford/groups/akundaje/amr1/pho4_final/lite_data/in-vitro/yeast/\"\n",
    "cbf1_filename = \"GSM4980359_1uMCbf1_His_alldata.txt.gz\"\n",
    "pho4_filename = \"GSM4980362_400nMPho4_GST_alldata.txt.gz\"\n",
    "\n",
    "pho4_seqToDdg = {}\n",
    "firstLine = True\n",
    "with gzip.open(data_dir+pho4_filename, 'rt') as inp:\n",
    "    for line in inp:\n",
    "        if firstLine:\n",
    "            firstLine = False\n",
    "            continue\n",
    "        curr = line.strip().split('\\t')[4]\n",
    "        if curr == \"_\": continue\n",
    "        if curr[36:] != \"GTCTTGATTCGCTTGACGCTGCTG\": print(\"Exception: \", curr)\n",
    "        seq = curr[:36]\n",
    "        if seq not in pho4_seqToDdg:\n",
    "            pho4_seqToDdg[seq] = []\n",
    "        pho4_seqToDdg[seq].append(log(float(line.strip().split('\\t')[-1])))\n",
    "        \n",
    "cbf1_seqToDdg = {}\n",
    "firstLine = True\n",
    "with gzip.open(data_dir+cbf1_filename, 'rt') as inp:\n",
    "    for line in inp:\n",
    "        if firstLine:\n",
    "            firstLine = False\n",
    "            continue\n",
    "        curr = line.strip().split('\\t')[4]\n",
    "        if curr == \"_\": continue\n",
    "        if curr[36:] != \"GTCTTGATTCGCTTGACGCTGCTG\": print(\"Exception: \", curr)\n",
    "        seq = curr[:36]\n",
    "        if seq not in cbf1_seqToDdg:\n",
    "            cbf1_seqToDdg[seq] = []\n",
    "        cbf1_seqToDdg[seq].append(log(float(line.strip().split('\\t')[-1])))\n",
    "\n",
    "seqs = []\n",
    "pho4_seqToLabel = {}\n",
    "cbf1_seqToLabel = {}\n",
    "for seq in pho4_seqToDdg:\n",
    "    seqs.append(seq)\n",
    "    pho4_seqToLabel[seq] = np.mean(pho4_seqToDdg[seq])\n",
    "    cbf1_seqToLabel[seq] = np.mean(cbf1_seqToDdg[seq])"
   ]
  },
  {
   "cell_type": "code",
   "execution_count": 3,
   "metadata": {},
   "outputs": [],
   "source": [
    "complement = {'A': 'T', 'C': 'G', 'G': 'C', 'T': 'A'} \n",
    "def getRevComp(seq):  # reverse complement function\n",
    "    ret = \"\"\n",
    "    for bp in seq.upper(): ret += complement[bp]\n",
    "    return ret[::-1]\n",
    "\n",
    "def generate_matrix(seq):\n",
    "    seq_matrix = np.zeros((len(seq), 4))\n",
    "    for j in range(len(seq)):\n",
    "        if seq[j] == 'A':\n",
    "            seq_matrix[j,0] = 1\n",
    "        elif seq[j] == 'C':\n",
    "            seq_matrix[j,1] = 1\n",
    "        elif seq[j] == 'G':\n",
    "            seq_matrix[j,2] = 1\n",
    "        elif seq[j] == 'T':\n",
    "            seq_matrix[j,3] = 1\n",
    "    return seq_matrix\n",
    "\n",
    "def get_PWM_max_score(sequence, score_matrix):\n",
    "    score_len = score_matrix.shape[0]\n",
    "    scores = []\n",
    "    for j in range(len(sequence) - score_len + 1):\n",
    "        seq_matrix = generate_matrix(sequence[j:j+score_len])\n",
    "        scores.append(np.sum(score_matrix * seq_matrix))\n",
    "    rc_sequence = getRevComp(sequence)\n",
    "    for j in range(len(rc_sequence) - score_len + 1):\n",
    "        seq_matrix = generate_matrix(rc_sequence[j:j+score_len])\n",
    "        scores.append(np.sum(score_matrix * seq_matrix))\n",
    "    return max(scores)"
   ]
  },
  {
   "cell_type": "code",
   "execution_count": 4,
   "metadata": {},
   "outputs": [],
   "source": [
    "pred_dir = \"/oak/stanford/groups/akundaje/amr1/pho4_final/lite_data/preds/\"\n",
    "obj_text1 = codecs.open(pred_dir+\"pho4_nexus_gcpbm.json\", 'r', encoding='utf-8').read()\n",
    "pho4_seqToDeltaLogCounts = json.loads(obj_text1)\n",
    "obj_text2 = codecs.open(pred_dir+\"cbf1_nexus_gcpbm.json\", 'r', encoding='utf-8').read()\n",
    "cbf1_seqToDeltaLogCounts = json.loads(obj_text2)\n",
    "\n",
    "pho4_pwm_scores = {}\n",
    "cbf1_pwm_scores = {}\n",
    "pho4_pwm_scores[\"distill\"] = {}\n",
    "cbf1_pwm_scores[\"distill\"] = {}\n",
    "pho4_pwm_scores[\"distill_1seq\"] = {}\n",
    "cbf1_pwm_scores[\"distill_1seq\"] = {}\n",
    "pho4_pwm_scores[\"distill_2seq\"] = {}\n",
    "cbf1_pwm_scores[\"distill_2seq\"] = {}\n",
    "pho4_pwm_scores[\"distill_5seq\"] = {}\n",
    "cbf1_pwm_scores[\"distill_5seq\"] = {}\n",
    "pho4_pwm_scores[\"distill_10seq\"] = {}\n",
    "cbf1_pwm_scores[\"distill_10seq\"] = {}\n",
    "pho4_pwm_scores[\"distill_20seq\"] = {}\n",
    "cbf1_pwm_scores[\"distill_20seq\"] = {}\n",
    "pho4_pwm_scores[\"distill_50seq\"] = {}\n",
    "cbf1_pwm_scores[\"distill_50seq\"] = {}\n",
    "for seq in seqs:\n",
    "    pho4_pwm_scores[\"distill\"][seq] = float(pho4_seqToDeltaLogCounts[seq][-1])\n",
    "    cbf1_pwm_scores[\"distill\"][seq] = float(cbf1_seqToDeltaLogCounts[seq][-1])\n",
    "    pho4_pwm_scores[\"distill_1seq\"][seq] = np.mean(np.array(pho4_seqToDeltaLogCounts[seq][1][:1]).astype(np.float) -\n",
    "                                                   np.array(pho4_seqToDeltaLogCounts[seq][0][:1]).astype(np.float))\n",
    "    cbf1_pwm_scores[\"distill_1seq\"][seq] = np.mean(np.array(cbf1_seqToDeltaLogCounts[seq][1][:1]).astype(np.float) -\n",
    "                                                   np.array(cbf1_seqToDeltaLogCounts[seq][0][:1]).astype(np.float))\n",
    "    pho4_pwm_scores[\"distill_2seq\"][seq] = np.mean(np.array(pho4_seqToDeltaLogCounts[seq][1][:2]).astype(np.float) -\n",
    "                                                   np.array(pho4_seqToDeltaLogCounts[seq][0][:2]).astype(np.float))\n",
    "    cbf1_pwm_scores[\"distill_2seq\"][seq] = np.mean(np.array(cbf1_seqToDeltaLogCounts[seq][1][:2]).astype(np.float) -\n",
    "                                                   np.array(cbf1_seqToDeltaLogCounts[seq][0][:2]).astype(np.float))\n",
    "    pho4_pwm_scores[\"distill_5seq\"][seq] = np.mean(np.array(pho4_seqToDeltaLogCounts[seq][1][:5]).astype(np.float) -\n",
    "                                                   np.array(pho4_seqToDeltaLogCounts[seq][0][:5]).astype(np.float))\n",
    "    cbf1_pwm_scores[\"distill_5seq\"][seq] = np.mean(np.array(cbf1_seqToDeltaLogCounts[seq][1][:5]).astype(np.float) -\n",
    "                                                   np.array(cbf1_seqToDeltaLogCounts[seq][0][:5]).astype(np.float))\n",
    "    pho4_pwm_scores[\"distill_10seq\"][seq] = np.mean(np.array(pho4_seqToDeltaLogCounts[seq][1][:10]).astype(np.float) -\n",
    "                                                   np.array(pho4_seqToDeltaLogCounts[seq][0][:10]).astype(np.float))\n",
    "    cbf1_pwm_scores[\"distill_10seq\"][seq] = np.mean(np.array(cbf1_seqToDeltaLogCounts[seq][1][:10]).astype(np.float) -\n",
    "                                                   np.array(cbf1_seqToDeltaLogCounts[seq][0][:10]).astype(np.float))\n",
    "    pho4_pwm_scores[\"distill_20seq\"][seq] = np.mean(np.array(pho4_seqToDeltaLogCounts[seq][1][:20]).astype(np.float) -\n",
    "                                                   np.array(pho4_seqToDeltaLogCounts[seq][0][:20]).astype(np.float))\n",
    "    cbf1_pwm_scores[\"distill_20seq\"][seq] = np.mean(np.array(cbf1_seqToDeltaLogCounts[seq][1][:20]).astype(np.float) -\n",
    "                                                   np.array(cbf1_seqToDeltaLogCounts[seq][0][:20]).astype(np.float))\n",
    "    pho4_pwm_scores[\"distill_50seq\"][seq] = np.mean(np.array(pho4_seqToDeltaLogCounts[seq][1][:50]).astype(np.float) -\n",
    "                                                   np.array(pho4_seqToDeltaLogCounts[seq][0][:50]).astype(np.float))\n",
    "    cbf1_pwm_scores[\"distill_50seq\"][seq] = np.mean(np.array(cbf1_seqToDeltaLogCounts[seq][1][:50]).astype(np.float) -\n",
    "                                                   np.array(cbf1_seqToDeltaLogCounts[seq][0][:50]).astype(np.float))"
   ]
  },
  {
   "cell_type": "code",
   "execution_count": 5,
   "metadata": {},
   "outputs": [],
   "source": [
    "lite_dir = \"/oak/stanford/groups/akundaje/amr1/pho4_final/lite_data/in-vivo/\"\n",
    "filepath1 = lite_dir+\"pho4_nexus/100_around_summits.fa.matrix.w2\"\n",
    "PWMs = []\n",
    "lines = []\n",
    "for idx, line in enumerate(open(filepath1)):\n",
    "    if line[0] == \">\":\n",
    "        if len(lines) == 4:\n",
    "            PWMs.append(np.array(lines)[:,1:].astype('float').T)\n",
    "            lines = []\n",
    "            if len(PWMs) == 10: break\n",
    "    else: lines.append(line.rstrip().split('\\t'))\n",
    "# Pho4 nexus: weeder_max_1_metadata.json\n",
    "pho4_pwm = PWMs[1]\n",
    "\n",
    "filepath2 = lite_dir+\"cbf1_nexus/100_around_summits.fa.matrix.w2\"\n",
    "PWMs = []\n",
    "lines = []\n",
    "for idx, line in enumerate(open(filepath1)):\n",
    "    if line[0] == \">\":\n",
    "        if len(lines) == 4:\n",
    "            PWMs.append(np.array(lines)[:,1:].astype('float').T)\n",
    "            lines = []\n",
    "            if len(PWMs) == 10: break\n",
    "    else: lines.append(line.rstrip().split('\\t'))\n",
    "# Cbf1 nexus: weeder_max_0_metadata.json\n",
    "cbf1_pwm = PWMs[0]\n",
    "\n",
    "pho4_pwm_scores[\"weeder\"] = {}\n",
    "cbf1_pwm_scores[\"weeder\"] = {}\n",
    "for seq in seqs:\n",
    "    pho4_pwm_scores[\"weeder\"][seq] = get_PWM_max_score(seq, pho4_pwm)\n",
    "    cbf1_pwm_scores[\"weeder\"][seq] = get_PWM_max_score(seq, cbf1_pwm)"
   ]
  },
  {
   "cell_type": "code",
   "execution_count": 6,
   "metadata": {},
   "outputs": [],
   "source": [
    "lite_dir = \"/oak/stanford/groups/akundaje/amr1/pho4_final/lite_data/in-vivo/\"\n",
    "filepath = lite_dir+\"pho4_nexus/streme_out/streme.txt\"\n",
    "reading = False\n",
    "PWMs = []\n",
    "for idx, line in enumerate(open(filepath)):\n",
    "    if \"letter-probability\" in line:\n",
    "        reading = True\n",
    "        width = int(line.rstrip().split(' ')[5])\n",
    "        lines = []\n",
    "        continue\n",
    "    if reading:\n",
    "        lines.append(line.rstrip().split(' '))\n",
    "        width -= 1\n",
    "        if width == 0:\n",
    "            reading = False\n",
    "            prob_mat = np.array(lines)[:,1:].astype('float')\n",
    "            pwm = np.log2((prob_mat/0.25)+1e-4)\n",
    "            PWMs.append(pwm)\n",
    "            if len(PWMs) == 10: break\n",
    "# Pho4 nexus: streme_max_0_metadata.json\n",
    "pho4_pwm = PWMs[0]\n",
    "\n",
    "lite_dir = \"/oak/stanford/groups/akundaje/amr1/pho4_final/lite_data/in-vivo/\"\n",
    "filepath = lite_dir+\"cbf1_nexus/streme_out/streme.txt\"\n",
    "reading = False\n",
    "PWMs = []\n",
    "for idx, line in enumerate(open(filepath)):\n",
    "    if \"letter-probability\" in line:\n",
    "        reading = True\n",
    "        width = int(line.rstrip().split(' ')[5])\n",
    "        lines = []\n",
    "        continue\n",
    "    if reading:\n",
    "        lines.append(line.rstrip().split(' '))\n",
    "        width -= 1\n",
    "        if width == 0:\n",
    "            reading = False\n",
    "            prob_mat = np.array(lines)[:,1:].astype('float')\n",
    "            pwm = np.log2((prob_mat/0.25)+1e-4)\n",
    "            PWMs.append(pwm)\n",
    "            if len(PWMs) == 10: break\n",
    "# Cbf1 nexus: streme_max_0_metadata.json\n",
    "cbf1_pwm = PWMs[0]\n",
    "\n",
    "pho4_pwm_scores[\"streme\"] = {}\n",
    "cbf1_pwm_scores[\"streme\"] = {}\n",
    "for seq in seqs:\n",
    "    pho4_pwm_scores[\"streme\"][seq] = get_PWM_max_score(seq, pho4_pwm)\n",
    "    cbf1_pwm_scores[\"streme\"][seq] = get_PWM_max_score(seq, cbf1_pwm)"
   ]
  },
  {
   "cell_type": "code",
   "execution_count": 7,
   "metadata": {},
   "outputs": [],
   "source": [
    "# MoDISco Lite\n",
    "filename = \"/oak/stanford/groups/akundaje/amr1/pho4_final/models/modisco-lite/pho4_nexus/modisco_counts_results.h5\"\n",
    "f = h5py.File(filename, 'r')\n",
    "pattern_list = len(f['pos_patterns'])\n",
    "\n",
    "def trim_motif(cwm_fwd):\n",
    "    trim_threshold=0.3\n",
    "    score_fwd = np.sum(np.abs(cwm_fwd), axis=1)\n",
    "    trim_thresh_fwd = np.max(score_fwd) * trim_threshold\n",
    "    pass_inds_fwd = np.where(score_fwd >= trim_thresh_fwd)[0]\n",
    "    start_fwd, end_fwd = max(np.min(pass_inds_fwd) - 4, 0), min(np.max(pass_inds_fwd) + 4 + 1, len(score_fwd) + 1)\n",
    "    trimmed_cwm_fwd = cwm_fwd[start_fwd:end_fwd]\n",
    "    return trimmed_cwm_fwd\n",
    "\n",
    "CWMs = []\n",
    "for idx in range(min(10, pattern_list)):\n",
    "    cwm = trim_motif(f['pos_patterns']['pattern_'+str(idx)]['contrib_scores'])\n",
    "    CWMs.append(cwm)\n",
    "# Pho4 nexus: modisco_max_0_metadata.json\n",
    "pho4_pwm = CWMs[0]\n",
    "\n",
    "filename = \"/oak/stanford/groups/akundaje/amr1/pho4_final/models/modisco-lite/cbf1_nexus/modisco_counts_results.h5\"\n",
    "f = h5py.File(filename, 'r')\n",
    "pattern_list = len(f['pos_patterns'])\n",
    "\n",
    "def trim_motif(cwm_fwd):\n",
    "    trim_threshold=0.3\n",
    "    score_fwd = np.sum(np.abs(cwm_fwd), axis=1)\n",
    "    trim_thresh_fwd = np.max(score_fwd) * trim_threshold\n",
    "    pass_inds_fwd = np.where(score_fwd >= trim_thresh_fwd)[0]\n",
    "    start_fwd, end_fwd = max(np.min(pass_inds_fwd) - 4, 0), min(np.max(pass_inds_fwd) + 4 + 1, len(score_fwd) + 1)\n",
    "    trimmed_cwm_fwd = cwm_fwd[start_fwd:end_fwd]\n",
    "    return trimmed_cwm_fwd\n",
    "\n",
    "CWMs = []\n",
    "for idx in range(min(10, pattern_list)):\n",
    "    cwm = trim_motif(f['pos_patterns']['pattern_'+str(idx)]['contrib_scores'])\n",
    "    CWMs.append(cwm)\n",
    "# Cbf1 nexus: modisco_max_0_metadata.json\n",
    "cbf1_pwm = CWMs[0]\n",
    "\n",
    "pho4_pwm_scores[\"modisco\"] = {}\n",
    "cbf1_pwm_scores[\"modisco\"] = {}\n",
    "for seq in seqs:\n",
    "    pho4_pwm_scores[\"modisco\"][seq] = get_PWM_max_score(seq, pho4_pwm)\n",
    "    cbf1_pwm_scores[\"modisco\"][seq] = get_PWM_max_score(seq, cbf1_pwm)"
   ]
  },
  {
   "cell_type": "code",
   "execution_count": 8,
   "metadata": {},
   "outputs": [
    {
     "name": "stdout",
     "output_type": "stream",
     "text": [
      "1000 20414\n"
     ]
    }
   ],
   "source": [
    "class CalibratorFactory(object):\n",
    "    def __call__(self, valid_preacts, valid_labels):\n",
    "        raise NotImplementedError()\n",
    "\n",
    "class LinearRegression(CalibratorFactory):\n",
    "    def __init__(self, verbose=True):\n",
    "        self.verbose = verbose \n",
    "\n",
    "    def __call__(self, valid_preacts, valid_labels):\n",
    "        lr = LR().fit(valid_preacts.reshape(-1, 1), valid_labels)\n",
    "    \n",
    "        def calibration_func(preact):\n",
    "            return lr.predict(preact.reshape(-1, 1))\n",
    "\n",
    "        return calibration_func\n",
    "    \n",
    "num_samples = min(1000, ceil(0.1*len(seqs)))\n",
    "print(num_samples, len(seqs))\n",
    "calibration_samples = np.random.choice(seqs, num_samples, replace=False)\n",
    "\n",
    "pho4_seqToPred = {}\n",
    "cbf1_seqToPred = {}\n",
    "for key in pho4_pwm_scores:\n",
    "    pho4_sample_labels = []\n",
    "    cbf1_sample_labels = []\n",
    "    pho4_sample_preds = []\n",
    "    cbf1_sample_preds = []\n",
    "    for seq in calibration_samples:\n",
    "        pho4_sample_labels.append(pho4_seqToLabel[seq])\n",
    "        cbf1_sample_labels.append(cbf1_seqToLabel[seq])\n",
    "        pho4_sample_preds.append(pho4_pwm_scores[key][seq])\n",
    "        cbf1_sample_preds.append(cbf1_pwm_scores[key][seq])\n",
    "    pho4_sample_labels = np.array(pho4_sample_labels)\n",
    "    cbf1_sample_labels = np.array(cbf1_sample_labels)    \n",
    "    pho4_sample_preds = np.array(pho4_sample_preds)\n",
    "    cbf1_sample_preds = np.array(cbf1_sample_preds)\n",
    "    \n",
    "    lr1 = LinearRegression()\n",
    "    lr2 = LinearRegression()\n",
    "    calibration_func1 = lr1(pho4_sample_preds, pho4_sample_labels)\n",
    "    calibration_func2 = lr2(cbf1_sample_preds, cbf1_sample_labels)\n",
    "    \n",
    "    pho4_seqToPred[key] = {}\n",
    "    cbf1_seqToPred[key] = {}\n",
    "    for seq in seqs:\n",
    "        pho4_seqToPred[key][seq] = calibration_func1(np.array([pho4_pwm_scores[key][seq]]))[0]\n",
    "        cbf1_seqToPred[key][seq] = calibration_func2(np.array([cbf1_pwm_scores[key][seq]]))[0]"
   ]
  },
  {
   "cell_type": "code",
   "execution_count": 9,
   "metadata": {},
   "outputs": [
    {
     "name": "stdout",
     "output_type": "stream",
     "text": [
      "distill\n",
      "distill_1seq\n",
      "distill_2seq\n",
      "distill_5seq\n",
      "distill_10seq\n",
      "distill_20seq\n",
      "distill_50seq\n",
      "weeder\n",
      "streme\n",
      "modisco\n"
     ]
    },
    {
     "data": {
      "text/plain": [
       "<Figure size 432x288 with 0 Axes>"
      ]
     },
     "metadata": {},
     "output_type": "display_data"
    },
    {
     "data": {
      "text/plain": [
       "<Figure size 432x288 with 0 Axes>"
      ]
     },
     "metadata": {},
     "output_type": "display_data"
    },
    {
     "data": {
      "text/plain": [
       "<Figure size 432x288 with 0 Axes>"
      ]
     },
     "metadata": {},
     "output_type": "display_data"
    },
    {
     "data": {
      "text/plain": [
       "<Figure size 432x288 with 0 Axes>"
      ]
     },
     "metadata": {},
     "output_type": "display_data"
    },
    {
     "data": {
      "text/plain": [
       "<Figure size 432x288 with 0 Axes>"
      ]
     },
     "metadata": {},
     "output_type": "display_data"
    },
    {
     "data": {
      "text/plain": [
       "<Figure size 432x288 with 0 Axes>"
      ]
     },
     "metadata": {},
     "output_type": "display_data"
    },
    {
     "data": {
      "text/plain": [
       "<Figure size 432x288 with 0 Axes>"
      ]
     },
     "metadata": {},
     "output_type": "display_data"
    },
    {
     "data": {
      "text/plain": [
       "<Figure size 432x288 with 0 Axes>"
      ]
     },
     "metadata": {},
     "output_type": "display_data"
    },
    {
     "data": {
      "text/plain": [
       "<Figure size 432x288 with 0 Axes>"
      ]
     },
     "metadata": {},
     "output_type": "display_data"
    },
    {
     "data": {
      "text/plain": [
       "<Figure size 432x288 with 0 Axes>"
      ]
     },
     "metadata": {},
     "output_type": "display_data"
    },
    {
     "data": {
      "text/plain": [
       "<Figure size 432x288 with 0 Axes>"
      ]
     },
     "metadata": {},
     "output_type": "display_data"
    },
    {
     "data": {
      "text/plain": [
       "<Figure size 432x288 with 0 Axes>"
      ]
     },
     "metadata": {},
     "output_type": "display_data"
    },
    {
     "data": {
      "text/plain": [
       "<Figure size 432x288 with 0 Axes>"
      ]
     },
     "metadata": {},
     "output_type": "display_data"
    },
    {
     "data": {
      "text/plain": [
       "<Figure size 432x288 with 0 Axes>"
      ]
     },
     "metadata": {},
     "output_type": "display_data"
    },
    {
     "data": {
      "text/plain": [
       "<Figure size 432x288 with 0 Axes>"
      ]
     },
     "metadata": {},
     "output_type": "display_data"
    },
    {
     "data": {
      "text/plain": [
       "<Figure size 432x288 with 0 Axes>"
      ]
     },
     "metadata": {},
     "output_type": "display_data"
    },
    {
     "data": {
      "text/plain": [
       "<Figure size 432x288 with 0 Axes>"
      ]
     },
     "metadata": {},
     "output_type": "display_data"
    },
    {
     "data": {
      "text/plain": [
       "<Figure size 432x288 with 0 Axes>"
      ]
     },
     "metadata": {},
     "output_type": "display_data"
    },
    {
     "data": {
      "text/plain": [
       "<Figure size 432x288 with 0 Axes>"
      ]
     },
     "metadata": {},
     "output_type": "display_data"
    },
    {
     "data": {
      "text/plain": [
       "<Figure size 432x288 with 0 Axes>"
      ]
     },
     "metadata": {},
     "output_type": "display_data"
    }
   ],
   "source": [
    "pho4_x = [pho4_seqToLabel[seq] for seq in seqs]\n",
    "pho4_bins = np.linspace(np.min(pho4_x),np.max(pho4_x), 50)\n",
    "cbf1_x = [cbf1_seqToLabel[seq] for seq in seqs]\n",
    "cbf1_bins = np.linspace(np.min(cbf1_x),np.max(cbf1_x), 50)\n",
    "pho4_rmses = {}\n",
    "pho4_stddevs = {}\n",
    "pho4_rmses[\"observed\"] = 0\n",
    "pho4_stddevs[\"observed\"] = np.std(pho4_x)\n",
    "cbf1_rmses = {}\n",
    "cbf1_stddevs = {}\n",
    "cbf1_rmses[\"observed\"] = 0\n",
    "cbf1_stddevs[\"observed\"] = np.std(cbf1_x)\n",
    "for key in pho4_seqToPred:\n",
    "    print(key)\n",
    "\n",
    "    #  Pho4\n",
    "    y = [pho4_seqToPred[key][seq] for seq in seqs]\n",
    "    metadata = {}\n",
    "    metadata[\"Obs. mean\"] = np.mean(pho4_x)\n",
    "    metadata[\"Obs. stddev\"] = np.std(pho4_x)\n",
    "    metadata[\"Pred. mean\"] = np.mean(y)\n",
    "    metadata[\"Pred. stddev\"] = np.std(y)\n",
    "    pho4_stddevs[key] = np.std(y)\n",
    "    pho4_rmses[key] = math.sqrt(mean_squared_error(pho4_x, y))\n",
    "    plt.figure()\n",
    "    matplotlib.rc('font', **font)\n",
    "    plt.hist(pho4_x, pho4_bins, alpha=0.5, density=True, label='Observed')\n",
    "    plt.hist(y, pho4_bins, alpha=0.5, density=True, label='Predicted')\n",
    "    plt.legend()\n",
    "    plt.title(key+\"_pho4\")\n",
    "    plt.savefig('comparison_figs/dynamic_range/'+key+'_pho4.png', dpi=300, format='png')\n",
    "    with open('comparison_figs/dynamic_range/'+key+'_pho4_metadata.json', 'w') as fp: json.dump(metadata, fp)\n",
    "    plt.clf()\n",
    "    \n",
    "    #  Cbf1\n",
    "    y = [cbf1_seqToPred[key][seq] for seq in seqs]\n",
    "    metadata = {}\n",
    "    metadata[\"Obs. mean\"] = np.mean(cbf1_x)\n",
    "    metadata[\"Obs. stddev\"] = np.std(cbf1_x)\n",
    "    metadata[\"Pred. mean\"] = np.mean(y)\n",
    "    metadata[\"Pred. stddev\"] = np.std(y)\n",
    "    cbf1_stddevs[key] = np.std(y)\n",
    "    cbf1_rmses[key] = math.sqrt(mean_squared_error(cbf1_x, y))\n",
    "    plt.figure()\n",
    "    matplotlib.rc('font', **font)\n",
    "    plt.hist(cbf1_x, cbf1_bins, alpha=0.5, density=True, label='Observed')\n",
    "    plt.hist(y, cbf1_bins, alpha=0.5, density=True, label='Predicted')\n",
    "    plt.legend()\n",
    "    plt.title(key+\"_cbf1\")\n",
    "    plt.savefig('comparison_figs/dynamic_range/'+key+'_cbf1.png', dpi=300, format='png')\n",
    "    with open('comparison_figs/dynamic_range/'+key+'_cbf1_metadata.json', 'w') as fp: json.dump(metadata, fp)\n",
    "    plt.clf()"
   ]
  },
  {
   "cell_type": "code",
   "execution_count": 10,
   "metadata": {},
   "outputs": [
    {
     "data": {
      "text/plain": [
       "<Figure size 432x288 with 0 Axes>"
      ]
     },
     "metadata": {},
     "output_type": "display_data"
    }
   ],
   "source": [
    "labels = ['distill_1seq', 'distill_2seq', 'distill_5seq', 'distill_10seq',\n",
    "          'distill_20seq', 'distill_50seq', 'distill']\n",
    "stddevs = [pho4_stddevs[key] for key in labels]\n",
    "rmses = [pho4_rmses[key] for key in labels]\n",
    "\n",
    "x = [1,2,5,10,20,50,100]  # the label locations\n",
    "\n",
    "fig, ax = plt.subplots()\n",
    "matplotlib.rc('font', **font)\n",
    "plt.plot(x, stddevs, label='Std. Dev.')\n",
    "plt.plot(x, rmses, label='RMSE')\n",
    "\n",
    "ax.set_ylabel('Log signal')\n",
    "ax.set_ylim((0.35, 0.7))\n",
    "ax.set_xscale('log')\n",
    "ax.legend()\n",
    "\n",
    "fig.tight_layout()\n",
    "plt.savefig('comparison_figs/dynamic_range/num_backgrounds_pho4.png', dpi=300, format='png')\n",
    "plt.clf()"
   ]
  },
  {
   "cell_type": "code",
   "execution_count": 11,
   "metadata": {},
   "outputs": [
    {
     "data": {
      "text/plain": [
       "<Figure size 432x288 with 0 Axes>"
      ]
     },
     "metadata": {},
     "output_type": "display_data"
    }
   ],
   "source": [
    "labels = ['streme', 'modisco', 'weeder', 'distill', 'observed']\n",
    "stddevs = [pho4_stddevs[key] for key in labels]\n",
    "rmses = [pho4_rmses[key] for key in labels]\n",
    "\n",
    "x = np.arange(len(labels))  # the label locations\n",
    "width = 0.35  # the width of the bars\n",
    "\n",
    "fig, ax = plt.subplots()\n",
    "matplotlib.rc('font', **font)\n",
    "rects1 = ax.bar(x - width/2, stddevs, width, label='Std. Dev.')\n",
    "rects2 = ax.bar(x + width/2, rmses, width, label='RMSE')\n",
    "\n",
    "ax.set_ylabel('Log signal')\n",
    "ax.set_ylim((0.35, 0.8))\n",
    "ax.set_xticklabels(['']+labels)\n",
    "ax.legend()\n",
    "\n",
    "fig.tight_layout()\n",
    "plt.savefig('comparison_figs/dynamic_range/bars_pho4.png', dpi=300, format='png')\n",
    "plt.clf()"
   ]
  },
  {
   "cell_type": "code",
   "execution_count": 12,
   "metadata": {},
   "outputs": [
    {
     "data": {
      "text/plain": [
       "<Figure size 432x288 with 0 Axes>"
      ]
     },
     "metadata": {},
     "output_type": "display_data"
    }
   ],
   "source": [
    "stddevs = [cbf1_stddevs[key] for key in labels]\n",
    "rmses = [cbf1_rmses[key] for key in labels]\n",
    "\n",
    "x = np.arange(len(labels))  # the label locations\n",
    "width = 0.35  # the width of the bars\n",
    "\n",
    "fig, ax = plt.subplots()\n",
    "matplotlib.rc('font', **font)\n",
    "rects1 = ax.bar(x - width/2, stddevs, width, label='Std. Dev.')\n",
    "rects2 = ax.bar(x + width/2, rmses, width, label='RMSE')\n",
    "\n",
    "ax.set_ylabel('Log signal')\n",
    "ax.set_ylim((0.5, 1.2))\n",
    "ax.set_xticklabels(['']+labels)\n",
    "ax.legend()\n",
    "\n",
    "fig.tight_layout()\n",
    "plt.savefig('comparison_figs/dynamic_range/bars_cbf1.png', dpi=300, format='png')\n",
    "plt.clf()"
   ]
  }
 ],
 "metadata": {
  "kernelspec": {
   "display_name": "Python [default]",
   "language": "python",
   "name": "python3"
  },
  "language_info": {
   "codemirror_mode": {
    "name": "ipython",
    "version": 3
   },
   "file_extension": ".py",
   "mimetype": "text/x-python",
   "name": "python",
   "nbconvert_exporter": "python",
   "pygments_lexer": "ipython3",
   "version": "3.6.8"
  }
 },
 "nbformat": 4,
 "nbformat_minor": 4
}
